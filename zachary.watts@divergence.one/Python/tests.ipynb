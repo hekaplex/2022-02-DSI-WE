{
 "cells": [
  {
   "cell_type": "code",
   "execution_count": 4,
   "metadata": {},
   "outputs": [
    {
     "name": "stdout",
     "output_type": "stream",
     "text": [
      "4\n"
     ]
    }
   ],
   "source": [
    "def add_1(var):\n",
    "    res = var + 1\n",
    "    return res\n",
    "\n",
    "print(add_1(3))"
   ]
  },
  {
   "cell_type": "code",
   "execution_count": 13,
   "metadata": {},
   "outputs": [
    {
     "name": "stdout",
     "output_type": "stream",
     "text": [
      "Collecting english_words\n",
      "  Downloading english-words-1.1.0.tar.gz (1.1 MB)\n",
      "     ---------------------------------------- 1.1/1.1 MB 1.4 MB/s eta 0:00:00\n",
      "  Preparing metadata (setup.py): started\n",
      "  Preparing metadata (setup.py): finished with status 'done'\n",
      "Building wheels for collected packages: english_words\n",
      "  Building wheel for english_words (setup.py): started\n",
      "  Building wheel for english_words (setup.py): finished with status 'done'\n",
      "  Created wheel for english_words: filename=english_words-1.1.0-py3-none-any.whl size=1106680 sha256=7c5411bf2d322776e52b1c114494bb660ecd978100a0aaf33002756dca41f59c\n",
      "  Stored in directory: c:\\users\\zachw\\appdata\\local\\pip\\cache\\wheels\\2c\\48\\9a\\f697d8d989ca4e4c1060f9da73caea372d7e1b78402abff8bb\n",
      "Successfully built english_words\n",
      "Installing collected packages: english_words\n",
      "Successfully installed english_words-1.1.0\n",
      "Note: you may need to restart the kernel to use updated packages.\n"
     ]
    }
   ],
   "source": [
    "%pip install english_words"
   ]
  }
 ],
 "metadata": {
  "interpreter": {
   "hash": "1de7bc14a1ba30515f9f9baa61a401c13718f932397d24c0ca60e17f5501f7c3"
  },
  "kernelspec": {
   "display_name": "Python 3.10.4 64-bit",
   "language": "python",
   "name": "python3"
  },
  "language_info": {
   "codemirror_mode": {
    "name": "ipython",
    "version": 3
   },
   "file_extension": ".py",
   "mimetype": "text/x-python",
   "name": "python",
   "nbconvert_exporter": "python",
   "pygments_lexer": "ipython3",
   "version": "3.10.4"
  },
  "orig_nbformat": 4
 },
 "nbformat": 4,
 "nbformat_minor": 2
}
