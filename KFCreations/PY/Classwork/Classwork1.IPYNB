{
 "cells": [
  {
   "cell_type": "code",
   "execution_count": 1,
   "metadata": {},
   "outputs": [
    {
     "name": "stdout",
     "output_type": "stream",
     "text": [
      "base: Keith\tbase: Keith\tbase: Keith\tbase: Keith\tbase: Keith\tbase: Keith\tbase: Keith\t\n"
     ]
    }
   ],
   "source": [
    "# input function and ASCII art\n",
    "name = input(\"type your name\")\n",
    "# convert str to int\n",
    "repeat = int(input(\"type your repeat value\"))\n",
    "# addstatic txt & special char\n",
    "base = \"base: \"+name+\"\\t\"\n",
    "print(base * repeat)\n"
   ]
  }
 ],
 "metadata": {
  "interpreter": {
   "hash": "a51ca48dde134416439862eee6844aa49985445e996c72b8e70b8226b5f09a21"
  },
  "kernelspec": {
   "display_name": "Python 3.10.4 64-bit",
   "language": "python",
   "name": "python3"
  },
  "language_info": {
   "codemirror_mode": {
    "name": "ipython",
    "version": 3
   },
   "file_extension": ".py",
   "mimetype": "text/x-python",
   "name": "python",
   "nbconvert_exporter": "python",
   "pygments_lexer": "ipython3",
   "version": "3.10.4"
  },
  "orig_nbformat": 4
 },
 "nbformat": 4,
 "nbformat_minor": 2
}
