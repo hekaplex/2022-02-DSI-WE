{
 "cells": [
  {
   "cell_type": "code",
   "execution_count": 27,
   "metadata": {},
   "outputs": [
    {
     "name": "stdout",
     "output_type": "stream",
     "text": [
      "Hello.  Welcome to Coffee Time.\n",
      "\n",
      "Hello Fang!\n",
      "\n",
      "Here is what we're serving.\n",
      "Black Coffee, Espresso, Latte, Cappucino\n",
      "\n",
      "One Cappucino coming right up!\n"
     ]
    }
   ],
   "source": [
    "# Coffee Time and Practice with Python \n",
    "\n",
    "# Interogative print statement followed by input\n",
    "print(\"Hello.  Welcome to Coffee Time.\\n\")\n",
    "\n",
    "# Request for variable name to be inputted by user \n",
    "name= input(\"What is your name?\\n\")\n",
    "\n",
    "# Menu via a string variable\n",
    "menu = \"Black Coffee, Espresso, Latte, Cappucino\\n\"\n",
    "\n",
    "# Personalized response via print statement that includes the customer name and menu option\n",
    "print(\"Hello\" + \" \" + name + \"!\" +\"\\n\")\n",
    "print(\"Here is what we're serving.\\n\" + menu)\n",
    "\n",
    "# Request for variable order to be inputted by user\n",
    "order = input(\"What would you like from our menu today?\\n\")\n",
    "\n",
    "# Response via print statement confirming order variable\n",
    "print(\"One \" + order + \" coming right up!\")"
   ]
  },
  {
   "cell_type": "code",
   "execution_count": null,
   "metadata": {},
   "outputs": [],
   "source": []
  }
 ],
 "metadata": {
  "interpreter": {
   "hash": "a51ca48dde134416439862eee6844aa49985445e996c72b8e70b8226b5f09a21"
  },
  "kernelspec": {
   "display_name": "Python 3.10.4 64-bit",
   "language": "python",
   "name": "python3"
  },
  "language_info": {
   "codemirror_mode": {
    "name": "ipython",
    "version": 3
   },
   "file_extension": ".py",
   "mimetype": "text/x-python",
   "name": "python",
   "nbconvert_exporter": "python",
   "pygments_lexer": "ipython3",
   "version": "3.10.4"
  },
  "orig_nbformat": 4
 },
 "nbformat": 4,
 "nbformat_minor": 2
}
