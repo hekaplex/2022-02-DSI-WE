{
 "cells": [
  {
   "cell_type": "code",
   "execution_count": 58,
   "metadata": {},
   "outputs": [
    {
     "name": "stdout",
     "output_type": "stream",
     "text": [
      "people in Room 5: \n",
      "['Rob', 'Bob', 'Keith']\n",
      "\n",
      "People now in Room 5: \n",
      "['Rob', 'Bob', 'Keith', 'Butcher']\n",
      "\n",
      "Caution... a Set follows!\n",
      "{'red', 'blue', 'black', 'green'}\n",
      "\n",
      "Add a new color to the set\n",
      "{'green', 'red', 'black', 'orange', 'blue'}\n",
      "\n",
      "Watchout Tuples below!\n",
      "('circle', 'square', 'oval', 'rectangle')\n",
      "\n",
      "Is bigger better? Dictionary of houses incoming!\n",
      "{'Mansion1': 75, 'Mansion2': 65, 'Mansion3': 75, 'Cottage1': 12, 'Cottage2': 12, 'Cottage3': 15}\n",
      "\n",
      "Randomly selected winner is: Butcher\n",
      "Enjoy your Blue Mansion with a Oval pool!\n",
      "\n",
      "Congratulations!\n"
     ]
    }
   ],
   "source": [
    "#list\n",
    "Room_5_Members = [\"Rob\",\"Bob\",\"Keith\"]\n",
    "print(\"people in Room 5: \")\n",
    "print(Room_5_Members)\n",
    "#Adds a person to the room\n",
    "add_member = input(\"Add name to room list: \\n\")\n",
    "Room_5_Members.append(add_member)\n",
    "print(\"\\nPeople now in Room 5: \")\n",
    "print(Room_5_Members)\n",
    "#set\n",
    "print(\"\\nCaution... a Set follows!\")\n",
    "color_set ={\"black\",\"blue\",\"red\",\"green\"}\n",
    "print(color_set)\n",
    "#Add a new color to the set\n",
    "print(\"\\nAdd a new color to the set\")\n",
    "color_set.add(\"orange\")\n",
    "print(color_set)\n",
    "#Tuple\n",
    "print(\"\\nWatchout Tuples below!\")\n",
    "shapes_tuple =(\"circle\",\"square\",\"oval\",\"rectangle\")\n",
    "print(shapes_tuple)\n",
    "#Dictionary\n",
    "print(\"\\nIs bigger better? Dictionary of houses incoming!\")\n",
    "d_HouseSizes = {\"Mansion1\":75,\"Mansion2\":65,\"Mansion3\":75,\"Cottage1\":12,\"Cottage2\":12,\"Cottage3\":15}\n",
    "print(d_HouseSizes)\n",
    "#Fuction insert\n",
    "import random\n",
    "random_name = random.choice(Room_5_Members)\n",
    "print(\"\\nRandomly selected winner is: \" + str(random_name))\n",
    "ColorChoice = input(\"Which house color above do you like?\\n\")\n",
    "HouseType = input(\"Do you prefer a Mansion or a Cottage?\\n\")\n",
    "FavoriteShape = input(\"What is your favorite shape?\\n\")\n",
    "print(\"Enjoy your \" + ColorChoice + \" \" + HouseType + \" with a \" + FavoriteShape + \" pool!\\n\")\n",
    "print(\"Congratulations!\")\n",
    "#random_house = random.choice(d_HouseSizes)\n",
    "#print(\"\\nHe won a : \" + dict(random_house))\n",
    "#print(color_set)\n",
    "#color_set2 = list(color_set)\n",
    "#random_color = random.choice(color_set2)\n",
    "#random_color = str(random_color)\n",
    "#print(random_color)\n",
    "#print(\"\\nColor of the house is: \" + str(random_color))\n",
    "# + set(random_color))\n",
    "#random_poolshape = random.choice(shapes_tuple)\n",
    "#print(\"\\n...and has a pool that is shaped like a \" + str(random_poolshape))\n"
   ]
  },
  {
   "cell_type": "code",
   "execution_count": null,
   "metadata": {},
   "outputs": [],
   "source": []
  }
 ],
 "metadata": {
  "interpreter": {
   "hash": "a51ca48dde134416439862eee6844aa49985445e996c72b8e70b8226b5f09a21"
  },
  "kernelspec": {
   "display_name": "Python 3.10.4 64-bit",
   "language": "python",
   "name": "python3"
  },
  "language_info": {
   "codemirror_mode": {
    "name": "ipython",
    "version": 3
   },
   "file_extension": ".py",
   "mimetype": "text/x-python",
   "name": "python",
   "nbconvert_exporter": "python",
   "pygments_lexer": "ipython3",
   "version": "3.10.4"
  },
  "orig_nbformat": 4
 },
 "nbformat": 4,
 "nbformat_minor": 2
}
