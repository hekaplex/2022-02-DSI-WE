{
 "cells": [
  {
   "cell_type": "code",
   "execution_count": 22,
   "metadata": {},
   "outputs": [
    {
     "name": "stdout",
     "output_type": "stream",
     "text": [
      "People in Room 5\n",
      "['Rob', 'Bob', 'Keith']\n",
      "People now in Room 5: \n",
      "Set list of Room 5 Members\n",
      "{'Bubba', 'Keith', 'Bob', 'Rob'}\n",
      "Room 5 Member tuple\n",
      "('Bubba', 'Keith', 'Bob', 'Rob')\n",
      "\n",
      "Caution... a Set follows!\n",
      "{'blue', 'black', 'red', 'green'}\n",
      "\n",
      "Watchout Tuples Below!\n",
      "('circle', 'square', 'oval', 'rectangle')\n",
      "Characters in each name\n",
      "{'Bubba': 5, 'Keith': 5, 'Bob': 3, 'Rob': 3}\n"
     ]
    },
    {
     "data": {
      "text/plain": [
       "70"
      ]
     },
     "execution_count": 22,
     "metadata": {},
     "output_type": "execute_result"
    }
   ],
   "source": [
    "Room_5_Members = [\"Rob\",\"Bob\",\"Keith\"]\n",
    "print(\"People in Room 5\")\n",
    "print(Room_5_Members)\n",
    "add_member = input(\"Add name to room list: \")\n",
    "Room_5_Members.append(add_member)\n",
    "print(\"People now in Room 5: \")\n",
    "set_Room_5_Members = set(Room_5_Members)\n",
    "print(\"Set list of Room 5 Members\")\n",
    "print(set_Room_5_Members)\n",
    "tuple_Room_5_Members = tuple(set_Room_5_Members)\n",
    "print(\"Room 5 Member tuple\")\n",
    "print(tuple_Room_5_Members)\n",
    "#set\n",
    "print(\"\\nCaution... a Set follows!\")\n",
    "color_set ={\"black\",\"blue\",\"red\",\"green\"}\n",
    "print(color_set)\n",
    "#tuple\n",
    "print(\"\\nWatchout Tuples Below!\")\n",
    "shapes_tuple =(\"circle\",\"square\",\"oval\",\"rectangle\")\n",
    "print(shapes_tuple)\n",
    "#dictionary\n",
    "print(\"Characters in each name\")\n",
    "d_dir ={k:len(k) for k in tuple_Room_5_Members}\n",
    "print(d_dir)\n",
    "#function\n",
    "int_strlen = count_char(\"How much wood could a woodchuck chuck if a woodchuck could chuck wood?\")\n",
    "int_strlen   \n"
   ]
  }
 ],
 "metadata": {
  "interpreter": {
   "hash": "f88af2e34972f698a515c306e8702455aef1e998e8b1c03d809f79d0ec52d5c9"
  },
  "kernelspec": {
   "display_name": "Python 3.10.2 64-bit",
   "language": "python",
   "name": "python3"
  },
  "language_info": {
   "codemirror_mode": {
    "name": "ipython",
    "version": 3
   },
   "file_extension": ".py",
   "mimetype": "text/x-python",
   "name": "python",
   "nbconvert_exporter": "python",
   "pygments_lexer": "ipython3",
   "version": "3.10.2"
  },
  "orig_nbformat": 4
 },
 "nbformat": 4,
 "nbformat_minor": 2
}
