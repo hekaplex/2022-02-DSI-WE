{
 "cells": [
  {
   "cell_type": "markdown",
   "metadata": {},
   "source": [
    "## Exercise\n",
    "Use code to create all of the following to accomplish one or more tasks:\n",
    "1. list\n",
    "1. set\n",
    "1. tuple\n",
    "1. dictionary\n",
    "1. function\n",
    "\n",
    "Extra credit using index of variables and comprehensions"
   ]
  },
  {
   "cell_type": "code",
   "execution_count": null,
   "metadata": {},
   "outputs": [],
   "source": [
    "'''\n",
    "Four basic data structures in Python\n",
    "Lists - writable, iterable,numeric indexed\n",
    "Tuples - read-only, iterable, numeric indexed\n",
    "Sets - read-only, non-iterable, not indexed\n",
    "    Dictionaries - writable, iterable\n",
    "'''"
   ]
  },
  {
   "cell_type": "code",
   "execution_count": 49,
   "metadata": {},
   "outputs": [
    {
     "data": {
      "text/plain": [
       "list"
      ]
     },
     "execution_count": 49,
     "metadata": {},
     "output_type": "execute_result"
    }
   ],
   "source": [
    "car_models = [\"Honda Accord Type R\",\"Tesla Model X\",\"Infiniti Q60\",\"Alfa Romero Giulia\",\"Mercedes-Benz E-Class\", \"Genesis G80 Sport\", \"Kia Stinger\"]\n",
    "type (car_models)\n"
   ]
  },
  {
   "cell_type": "code",
   "execution_count": 50,
   "metadata": {},
   "outputs": [
    {
     "data": {
      "text/plain": [
       "['Honda Accord Type R',\n",
       " 'Tesla Model X',\n",
       " 'Infiniti Q60',\n",
       " 'Alfa Romero Giulia',\n",
       " 'Mercedes-Benz E-Class',\n",
       " 'Genesis G80 Sport',\n",
       " 'Kia Stinger']"
      ]
     },
     "execution_count": 50,
     "metadata": {},
     "output_type": "execute_result"
    }
   ],
   "source": [
    "car_models"
   ]
  },
  {
   "cell_type": "code",
   "execution_count": 103,
   "metadata": {},
   "outputs": [
    {
     "data": {
      "text/plain": [
       "17"
      ]
     },
     "execution_count": 103,
     "metadata": {},
     "output_type": "execute_result"
    }
   ],
   "source": [
    "len(car_models[4])"
   ]
  },
  {
   "cell_type": "code",
   "execution_count": 52,
   "metadata": {},
   "outputs": [
    {
     "data": {
      "text/plain": [
       "['Honda Accord Type R',\n",
       " 'Tesla Model X',\n",
       " 'Infiniti Q60',\n",
       " 'Alfa Romero Giulia',\n",
       " 'Mercedes-Benz E-Class',\n",
       " 'Genesis G80 Sport',\n",
       " 'Kia Stinger',\n",
       " 'Toyota Supra']"
      ]
     },
     "execution_count": 52,
     "metadata": {},
     "output_type": "execute_result"
    }
   ],
   "source": [
    "car_models.append(\"Toyota Supra\")\n",
    "\n",
    "car_models"
   ]
  },
  {
   "cell_type": "code",
   "execution_count": 53,
   "metadata": {},
   "outputs": [
    {
     "data": {
      "text/plain": [
       "'Genesis G80 Sport'"
      ]
     },
     "execution_count": 53,
     "metadata": {},
     "output_type": "execute_result"
    }
   ],
   "source": [
    "car_models[5]"
   ]
  },
  {
   "cell_type": "code",
   "execution_count": 54,
   "metadata": {},
   "outputs": [
    {
     "name": "stdout",
     "output_type": "stream",
     "text": [
      "Tesla Model X\n"
     ]
    },
    {
     "data": {
      "text/plain": [
       "['Honda Accord Type R',\n",
       " 'Infiniti Q60',\n",
       " 'Alfa Romero Giulia',\n",
       " 'Mercedes-Benz E-Class',\n",
       " 'Genesis G80 Sport',\n",
       " 'Kia Stinger',\n",
       " 'Toyota Supra']"
      ]
     },
     "execution_count": 54,
     "metadata": {},
     "output_type": "execute_result"
    }
   ],
   "source": [
    "car_model_1 = car_models.pop(1)\n",
    "print(car_model_1)\n",
    "car_models"
   ]
  },
  {
   "cell_type": "code",
   "execution_count": 55,
   "metadata": {},
   "outputs": [
    {
     "name": "stdout",
     "output_type": "stream",
     "text": [
      "Honda Accord Type R\n",
      "Infiniti Q60\n",
      "Alfa Romero Giulia\n",
      "Mercedes-Benz E-Class\n",
      "Genesis G80 Sport\n",
      "Kia Stinger\n",
      "Toyota Supra\n"
     ]
    }
   ],
   "source": [
    "for model in car_models: print(model)"
   ]
  },
  {
   "cell_type": "code",
   "execution_count": 56,
   "metadata": {},
   "outputs": [
    {
     "name": "stdout",
     "output_type": "stream",
     "text": [
      "C\n",
      "a\n",
      "r\n",
      " \n",
      "m\n",
      "o\n",
      "d\n",
      "e\n",
      "l\n"
     ]
    }
   ],
   "source": [
    "for n in 'Car model': print(n)"
   ]
  },
  {
   "cell_type": "code",
   "execution_count": 67,
   "metadata": {},
   "outputs": [
    {
     "data": {
      "text/plain": [
       "tuple"
      ]
     },
     "execution_count": 67,
     "metadata": {},
     "output_type": "execute_result"
    }
   ],
   "source": [
    "truck_models_tuple = (\"Ford F-150 Lightening\",\"Toyota Tundra EV\",\"Chevy Silverado EV\",\"Nissan Surf-Out\")\n",
    "type(truck_models_tuple)"
   ]
  },
  {
   "cell_type": "code",
   "execution_count": 68,
   "metadata": {},
   "outputs": [
    {
     "data": {
      "text/plain": [
       "'Toyota Tundra EV'"
      ]
     },
     "execution_count": 68,
     "metadata": {},
     "output_type": "execute_result"
    }
   ],
   "source": [
    "truck_models_tuple[1]"
   ]
  },
  {
   "cell_type": "code",
   "execution_count": 70,
   "metadata": {},
   "outputs": [
    {
     "data": {
      "text/plain": [
       "set"
      ]
     },
     "execution_count": 70,
     "metadata": {},
     "output_type": "execute_result"
    }
   ],
   "source": [
    "truck_models_set = {\"Ford F-150 Lightening\",\"Toyota Tundra EV\",\"Chevy Silverado EV\",\"Nissan Surf-Out\", \"GMC Denali\"}\n",
    "type(truck_models_set)"
   ]
  },
  {
   "cell_type": "code",
   "execution_count": 76,
   "metadata": {},
   "outputs": [
    {
     "data": {
      "text/plain": [
       "{'Alfa Romero Giulia',\n",
       " 'Genesis G80 Sport',\n",
       " 'Honda Accord Type R',\n",
       " 'Infiniti Q60',\n",
       " 'Kia Stinger',\n",
       " 'Mercedes-Benz E-Class',\n",
       " 'Tesla Model X'}"
      ]
     },
     "execution_count": 76,
     "metadata": {},
     "output_type": "execute_result"
    }
   ],
   "source": [
    "car_models_set = {\"Honda Accord Type R\",\"Tesla Model X\",\"Infiniti Q60\",\"Alfa Romero Giulia\",\"Mercedes-Benz E-Class\", \"Genesis G80 Sport\", \"Kia Stinger\"}\n",
    "car_models_set"
   ]
  },
  {
   "cell_type": "code",
   "execution_count": 80,
   "metadata": {},
   "outputs": [
    {
     "data": {
      "text/plain": [
       "set()"
      ]
     },
     "execution_count": 80,
     "metadata": {},
     "output_type": "execute_result"
    }
   ],
   "source": [
    "car_models_set & truck_models_set"
   ]
  },
  {
   "cell_type": "code",
   "execution_count": 81,
   "metadata": {},
   "outputs": [
    {
     "data": {
      "text/plain": [
       "{'Alfa Romero Giulia',\n",
       " 'Chevy Silverado EV',\n",
       " 'Ford F-150 Lightening',\n",
       " 'GMC Denali',\n",
       " 'Genesis G80 Sport',\n",
       " 'Honda Accord Type R',\n",
       " 'Infiniti Q60',\n",
       " 'Kia Stinger',\n",
       " 'Mercedes-Benz E-Class',\n",
       " 'Nissan Surf-Out',\n",
       " 'Tesla Model X',\n",
       " 'Toyota Tundra EV'}"
      ]
     },
     "execution_count": 81,
     "metadata": {},
     "output_type": "execute_result"
    }
   ],
   "source": [
    "car_models_set | truck_models_set"
   ]
  },
  {
   "cell_type": "code",
   "execution_count": 82,
   "metadata": {},
   "outputs": [
    {
     "data": {
      "text/plain": [
       "{1, 2, 3, 4, 5, 6}"
      ]
     },
     "execution_count": 82,
     "metadata": {},
     "output_type": "execute_result"
    }
   ],
   "source": [
    "blist = [1,2,3,4,5,4,3,4,5,6]\n",
    "set(blist)"
   ]
  },
  {
   "cell_type": "code",
   "execution_count": 83,
   "metadata": {},
   "outputs": [
    {
     "data": {
      "text/plain": [
       "dict"
      ]
     },
     "execution_count": 83,
     "metadata": {},
     "output_type": "execute_result"
    }
   ],
   "source": [
    "sdict = {\"a\":1 , \"b\":2}\n",
    "type(sdict)"
   ]
  },
  {
   "cell_type": "code",
   "execution_count": 84,
   "metadata": {},
   "outputs": [],
   "source": [
    "d_car_models ={k:len(k) for k in car_models}"
   ]
  },
  {
   "cell_type": "code",
   "execution_count": 85,
   "metadata": {},
   "outputs": [
    {
     "data": {
      "text/plain": [
       "dict_keys(['Honda Accord Type R', 'Infiniti Q60', 'Alfa Romero Giulia', 'Mercedes-Benz E-Class', 'Genesis G80 Sport', 'Kia Stinger', 'Toyota Supra'])"
      ]
     },
     "execution_count": 85,
     "metadata": {},
     "output_type": "execute_result"
    }
   ],
   "source": [
    "d_car_models.keys()"
   ]
  },
  {
   "cell_type": "code",
   "execution_count": 86,
   "metadata": {},
   "outputs": [
    {
     "data": {
      "text/plain": [
       "dict_values([19, 12, 18, 21, 17, 11, 12])"
      ]
     },
     "execution_count": 86,
     "metadata": {},
     "output_type": "execute_result"
    }
   ],
   "source": [
    "d_car_models.values()"
   ]
  },
  {
   "cell_type": "code",
   "execution_count": 87,
   "metadata": {},
   "outputs": [
    {
     "data": {
      "text/plain": [
       "{'Honda Accord Type R': 19,\n",
       " 'Infiniti Q60': 12,\n",
       " 'Alfa Romero Giulia': 18,\n",
       " 'Mercedes-Benz E-Class': 21,\n",
       " 'Genesis G80 Sport': 5,\n",
       " 'Kia Stinger': 11,\n",
       " 'Toyota Supra': 12}"
      ]
     },
     "execution_count": 87,
     "metadata": {},
     "output_type": "execute_result"
    }
   ],
   "source": [
    "d_car_models[\"Genesis G80 Sport\"] = 5\n",
    "d_car_models"
   ]
  },
  {
   "cell_type": "code",
   "execution_count": 88,
   "metadata": {},
   "outputs": [],
   "source": [
    "def count_char(car_models):\n",
    "    '''counts number of characters in input'''\n",
    "    return len(car_models)"
   ]
  },
  {
   "cell_type": "code",
   "execution_count": 90,
   "metadata": {},
   "outputs": [
    {
     "data": {
      "text/plain": [
       "7"
      ]
     },
     "execution_count": 90,
     "metadata": {},
     "output_type": "execute_result"
    }
   ],
   "source": [
    "count_char(car_models)"
   ]
  },
  {
   "cell_type": "code",
   "execution_count": 101,
   "metadata": {},
   "outputs": [
    {
     "name": "stdout",
     "output_type": "stream",
     "text": [
      "Hi, this is a function\n"
     ]
    }
   ],
   "source": [
    "def my_function():\n",
    "    print(\"Hi, this is a function\")\n",
    "    \n",
    "my_function()\n"
   ]
  },
  {
   "cell_type": "code",
   "execution_count": 102,
   "metadata": {},
   "outputs": [
    {
     "name": "stdout",
     "output_type": "stream",
     "text": [
      "Emily Lee has an Infiniti Q60.\n"
     ]
    }
   ],
   "source": [
    "def my_function (fname):\n",
    "    print(fname + \" Lee\" + \" has an \" + car_models[1] + \".\")\n",
    "\n",
    "my_function(\"Emily\")"
   ]
  }
 ],
 "metadata": {
  "interpreter": {
   "hash": "204cf68cbde5306ebdb29a111719c66673058cabe6e23ee361745513cd55c99f"
  },
  "kernelspec": {
   "display_name": "Python 3.10.2 64-bit",
   "language": "python",
   "name": "python3"
  },
  "language_info": {
   "codemirror_mode": {
    "name": "ipython",
    "version": 3
   },
   "file_extension": ".py",
   "mimetype": "text/x-python",
   "name": "python",
   "nbconvert_exporter": "python",
   "pygments_lexer": "ipython3",
   "version": "3.10.2"
  },
  "orig_nbformat": 4
 },
 "nbformat": 4,
 "nbformat_minor": 2
}
