children = ["Andrew","Laura","Joe"]
lol_children = [[c, len(c)]  for c in children]
lol_children
!pip install pandas