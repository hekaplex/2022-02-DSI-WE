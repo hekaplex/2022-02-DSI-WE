{
 "cells": [
  {
   "cell_type": "code",
   "execution_count": 3,
   "metadata": {},
   "outputs": [
    {
     "name": "stdout",
     "output_type": "stream",
     "text": [
      "Collecting pyodbc\n",
      "  Downloading pyodbc-4.0.32-cp310-cp310-win_amd64.whl (72 kB)\n",
      "Installing collected packages: pyodbc\n",
      "Successfully installed pyodbc-4.0.32\n",
      "Note: you may need to restart the kernel to use updated packages.\n"
     ]
    },
    {
     "name": "stderr",
     "output_type": "stream",
     "text": [
      "WARNING: You are using pip version 21.2.4; however, version 22.1.2 is available.\n",
      "You should consider upgrading via the 'c:\\Users\\divergence\\AppData\\Local\\Programs\\Python\\Python310\\python.exe -m pip install --upgrade pip' command.\n"
     ]
    }
   ],
   "source": [
    "pip install pyodbc"
   ]
  },
  {
   "cell_type": "code",
   "execution_count": 3,
   "metadata": {},
   "outputs": [],
   "source": [
    "import pyodbc\n",
    "conn = pyodbc.connect('DRIVER={ODBC Driver 17 for SQL Server};SERVER=2022dsiwd.database.windows.net;DATABASE=AdventureWorks2019;UID=admin2022dsiwd;PWD=Divergence!2022dsiwd')"
   ]
  },
  {
   "cell_type": "code",
   "execution_count": 7,
   "metadata": {},
   "outputs": [
    {
     "data": {
      "text/plain": [
       "<function dir>"
      ]
     },
     "execution_count": 7,
     "metadata": {},
     "output_type": "execute_result"
    }
   ],
   "source": [
    "\n",
    "dir"
   ]
  },
  {
   "cell_type": "code",
   "execution_count": 4,
   "metadata": {},
   "outputs": [],
   "source": [
    "import pandas as pd"
   ]
  },
  {
   "cell_type": "code",
   "execution_count": 8,
   "metadata": {},
   "outputs": [
    {
     "data": {
      "text/plain": [
       "9"
      ]
     },
     "execution_count": 8,
     "metadata": {},
     "output_type": "execute_result"
    }
   ],
   "source": [
    "f = 4\n",
    "r = 5\n",
    "f+r"
   ]
  },
  {
   "cell_type": "code",
   "execution_count": 13,
   "metadata": {},
   "outputs": [
    {
     "name": "stdout",
     "output_type": "stream",
     "text": [
      " Volume in drive C is Windows\n",
      " Volume Serial Number is 1C5A-BE81\n",
      "\n",
      " Directory of C:\\\n",
      "\n",
      "04/08/2022  03:04 PM    <DIR>          .github\n",
      "04/08/2022  03:04 PM    <DIR>          Allfiles\n",
      "01/02/2020  11:00 PM    <DIR>          Data\n",
      "06/01/2022  10:10 AM    <DIR>          Divergence excel spreadsheets for VM - Copy\n",
      "04/08/2022  03:04 PM               785 index.md\n",
      "04/08/2022  03:04 PM    <DIR>          Instructions\n",
      "04/08/2022  03:04 PM             1,070 LICENSE\n",
      "01/02/2020  08:33 PM    <DIR>          Murach\n",
      "01/02/2020  08:22 PM    <DIR>          Packages\n",
      "03/18/2019  11:52 PM    <DIR>          PerfLogs\n",
      "04/10/2022  10:38 AM    <DIR>          PL300mysolution\n",
      "04/24/2022  08:56 AM    <DIR>          Program Files\n",
      "03/12/2022  04:01 PM    <DIR>          Program Files (x86)\n",
      "04/08/2022  03:04 PM             3,232 readme.md\n",
      "04/10/2022  10:58 AM            11,811 Sales Analysis.pbix\n",
      "04/10/2022  10:40 AM    <DIR>          SQL2019\n",
      "01/02/2020  08:20 PM    <DIR>          Users\n",
      "03/06/2022  05:02 PM    <DIR>          Visual Studio 2017\n",
      "06/01/2022  08:10 AM    <DIR>          Windows\n",
      "06/01/2022  06:27 AM    <DIR>          WindowsAzure\n",
      "04/08/2022  03:04 PM             1,258 _build.yml\n",
      "04/08/2022  03:04 PM               339 _config.yml\n",
      "               6 File(s)         18,495 bytes\n",
      "              16 Dir(s)  56,224,247,808 bytes free\n"
     ]
    }
   ],
   "source": [
    "var = \"C:\\\\\"\n",
    "!dir $var"
   ]
  },
  {
   "cell_type": "code",
   "execution_count": 5,
   "metadata": {},
   "outputs": [
    {
     "name": "stderr",
     "output_type": "stream",
     "text": [
      "UsageError: Line magic function `%sql` not found.\n"
     ]
    }
   ],
   "source": [
    "%sql $db_query"
   ]
  },
  {
   "cell_type": "code",
   "execution_count": 8,
   "metadata": {},
   "outputs": [
    {
     "name": "stdout",
     "output_type": "stream",
     "text": [
      "Collecting ipython-sql\n",
      "  Downloading https://files.pythonhosted.org/packages/ab/3d/0d38357c620df31cebb056ca1804027112e5c008f4c2c0e16d879996ad9f/ipython_sql-0.4.0-py3-none-any.whl\n",
      "Collecting prettytable<1 (from ipython-sql)\n",
      "  Downloading https://files.pythonhosted.org/packages/ef/30/4b0746848746ed5941f052479e7c23d2b56d174b82f4fd34a25e389831f5/prettytable-0.7.2.tar.bz2\n",
      "Requirement already satisfied: six in c:\\programdata\\anaconda3\\lib\\site-packages (from ipython-sql) (1.12.0)\n",
      "Requirement already satisfied: sqlalchemy>=0.6.7 in c:\\programdata\\anaconda3\\lib\\site-packages (from ipython-sql) (1.3.9)\n",
      "Requirement already satisfied: ipython-genutils>=0.1.0 in c:\\programdata\\anaconda3\\lib\\site-packages (from ipython-sql) (0.2.0)\n",
      "Requirement already satisfied: ipython>=1.0 in c:\\programdata\\anaconda3\\lib\\site-packages (from ipython-sql) (7.8.0)\n",
      "Collecting sqlparse (from ipython-sql)\n",
      "  Downloading https://files.pythonhosted.org/packages/05/40/d836d55fb3f467243ee839ab7b814822fda522cd395fa41e282684e71ee5/sqlparse-0.4.2-py3-none-any.whl (42kB)\n",
      "Requirement already satisfied: colorama; sys_platform == \"win32\" in c:\\programdata\\anaconda3\\lib\\site-packages (from ipython>=1.0->ipython-sql) (0.4.1)\n",
      "Requirement already satisfied: prompt-toolkit<2.1.0,>=2.0.0 in c:\\programdata\\anaconda3\\lib\\site-packages (from ipython>=1.0->ipython-sql) (2.0.10)\n",
      "Requirement already satisfied: jedi>=0.10 in c:\\programdata\\anaconda3\\lib\\site-packages (from ipython>=1.0->ipython-sql) (0.15.1)\n",
      "Requirement already satisfied: backcall in c:\\programdata\\anaconda3\\lib\\site-packages (from ipython>=1.0->ipython-sql) (0.1.0)\n",
      "Requirement already satisfied: pickleshare in c:\\programdata\\anaconda3\\lib\\site-packages (from ipython>=1.0->ipython-sql) (0.7.5)\n",
      "Requirement already satisfied: setuptools>=18.5 in c:\\programdata\\anaconda3\\lib\\site-packages (from ipython>=1.0->ipython-sql) (41.4.0)\n",
      "Requirement already satisfied: traitlets>=4.2 in c:\\programdata\\anaconda3\\lib\\site-packages (from ipython>=1.0->ipython-sql) (4.3.3)\n",
      "Requirement already satisfied: decorator in c:\\programdata\\anaconda3\\lib\\site-packages (from ipython>=1.0->ipython-sql) (4.4.0)\n",
      "Requirement already satisfied: pygments in c:\\programdata\\anaconda3\\lib\\site-packages (from ipython>=1.0->ipython-sql) (2.4.2)\n",
      "Requirement already satisfied: wcwidth in c:\\programdata\\anaconda3\\lib\\site-packages (from prompt-toolkit<2.1.0,>=2.0.0->ipython>=1.0->ipython-sql) (0.1.7)\n",
      "Requirement already satisfied: parso>=0.5.0 in c:\\programdata\\anaconda3\\lib\\site-packages (from jedi>=0.10->ipython>=1.0->ipython-sql) (0.5.1)\n",
      "Building wheels for collected packages: prettytable\n",
      "  Building wheel for prettytable (setup.py): started\n",
      "  Building wheel for prettytable (setup.py): finished with status 'done'\n",
      "  Created wheel for prettytable: filename=prettytable-0.7.2-cp37-none-any.whl size=13706 sha256=1e6956cc6c01852e8cd337cf8ca7e1d16d15c8820956add45456570830569125\n",
      "  Stored in directory: C:\\Users\\divergence\\AppData\\Local\\pip\\Cache\\wheels\\80\\34\\1c\\3967380d9676d162cb59513bd9dc862d0584e045a162095606\n",
      "Successfully built prettytable\n",
      "Installing collected packages: prettytable, sqlparse, ipython-sql\n",
      "Successfully installed ipython-sql-0.4.0 prettytable-0.7.2 sqlparse-0.4.2\n",
      "Note: you may need to restart the kernel to use updated packages.\n"
     ]
    }
   ],
   "source": [
    "%pip install ipython-sql"
   ]
  },
  {
   "cell_type": "code",
   "execution_count": 9,
   "metadata": {},
   "outputs": [],
   "source": [
    "%load_ext sql"
   ]
  },
  {
   "cell_type": "code",
   "execution_count": 10,
   "metadata": {},
   "outputs": [],
   "source": [
    "%sql mssql+pyodbc://@dsiwddsn"
   ]
  },
  {
   "cell_type": "code",
   "execution_count": 11,
   "metadata": {},
   "outputs": [
    {
     "name": "stdout",
     "output_type": "stream",
     "text": [
      " * mssql+pyodbc://@dsiwddsn\n",
      "Done.\n"
     ]
    },
    {
     "data": {
      "text/html": [
       "<table>\n",
       "    <tr>\n",
       "        <th></th>\n",
       "    </tr>\n",
       "    <tr>\n",
       "        <td>Microsoft SQL Server 2019 (RTM) - 15.0.2000.5 (X64) <br>\tSep 24 2019 13:48:23 <br>\tCopyright (C) 2019 Microsoft Corporation<br>\tExpress Edition (64-bit) on Windows 10 Pro 10.0 &lt;X64&gt; (Build 18362: ) (Hypervisor)<br></td>\n",
       "    </tr>\n",
       "</table>"
      ],
      "text/plain": [
       "[('Microsoft SQL Server 2019 (RTM) - 15.0.2000.5 (X64) \\n\\tSep 24 2019 13:48:23 \\n\\tCopyright (C) 2019 Microsoft Corporation\\n\\tExpress Edition (64-bit) on Windows 10 Pro 10.0 <X64> (Build 18362: ) (Hypervisor)\\n',)]"
      ]
     },
     "execution_count": 11,
     "metadata": {},
     "output_type": "execute_result"
    }
   ],
   "source": [
    "%sql SELECT @@version"
   ]
  },
  {
   "cell_type": "code",
   "execution_count": 12,
   "metadata": {},
   "outputs": [
    {
     "name": "stdout",
     "output_type": "stream",
     "text": [
      " * mssql+pyodbc://@dsiwddsn\n",
      "(pyodbc.ProgrammingError) ('42000', \"[42000] [Microsoft][ODBC Driver 17 for SQL Server][SQL Server]Could not find stored procedure 'count'. (2812) (SQLExecDirectW)\")\n",
      "[SQL: count rows]\n",
      "(Background on this error at: http://sqlalche.me/e/f405)\n"
     ]
    }
   ],
   "source": [
    "%sql count rows"
   ]
  },
  {
   "cell_type": "code",
   "execution_count": 14,
   "metadata": {},
   "outputs": [
    {
     "name": "stdout",
     "output_type": "stream",
     "text": [
      " * mssql+pyodbc://@dsiwddsn\n",
      "Done.\n"
     ]
    }
   ],
   "source": [
    "result = %sql SELECT * FROM INFORMATION_SCHEMA.COLUMNS"
   ]
  },
  {
   "cell_type": "code",
   "execution_count": 15,
   "metadata": {},
   "outputs": [],
   "source": [
    "res = pd.DataFrame(data = result.dicts())"
   ]
  },
  {
   "cell_type": "code",
   "execution_count": 16,
   "metadata": {},
   "outputs": [
    {
     "data": {
      "text/plain": [
       "Index(['TABLE_CATALOG', 'TABLE_SCHEMA', 'TABLE_NAME', 'COLUMN_NAME',\n",
       "       'ORDINAL_POSITION', 'COLUMN_DEFAULT', 'IS_NULLABLE', 'DATA_TYPE',\n",
       "       'CHARACTER_MAXIMUM_LENGTH', 'CHARACTER_OCTET_LENGTH',\n",
       "       'NUMERIC_PRECISION', 'NUMERIC_PRECISION_RADIX', 'NUMERIC_SCALE',\n",
       "       'DATETIME_PRECISION', 'CHARACTER_SET_CATALOG', 'CHARACTER_SET_SCHEMA',\n",
       "       'CHARACTER_SET_NAME', 'COLLATION_CATALOG', 'COLLATION_SCHEMA',\n",
       "       'COLLATION_NAME', 'DOMAIN_CATALOG', 'DOMAIN_SCHEMA', 'DOMAIN_NAME'],\n",
       "      dtype='object')"
      ]
     },
     "execution_count": 16,
     "metadata": {},
     "output_type": "execute_result"
    }
   ],
   "source": [
    "res.columns"
   ]
  },
  {
   "cell_type": "code",
   "execution_count": 18,
   "metadata": {},
   "outputs": [
    {
     "data": {
      "text/plain": [
       "TABLE_CATALOG                0\n",
       "TABLE_SCHEMA                 0\n",
       "TABLE_NAME                   0\n",
       "COLUMN_NAME                  0\n",
       "ORDINAL_POSITION             0\n",
       "COLUMN_DEFAULT              30\n",
       "IS_NULLABLE                  0\n",
       "DATA_TYPE                    0\n",
       "CHARACTER_MAXIMUM_LENGTH    22\n",
       "CHARACTER_OCTET_LENGTH      22\n",
       "NUMERIC_PRECISION           13\n",
       "NUMERIC_PRECISION_RADIX     13\n",
       "NUMERIC_SCALE               13\n",
       "DATETIME_PRECISION          28\n",
       "CHARACTER_SET_CATALOG       31\n",
       "CHARACTER_SET_SCHEMA        31\n",
       "CHARACTER_SET_NAME          23\n",
       "COLLATION_CATALOG           31\n",
       "COLLATION_SCHEMA            31\n",
       "COLLATION_NAME              23\n",
       "DOMAIN_CATALOG              31\n",
       "DOMAIN_SCHEMA               31\n",
       "DOMAIN_NAME                 31\n",
       "dtype: int64"
      ]
     },
     "execution_count": 18,
     "metadata": {},
     "output_type": "execute_result"
    }
   ],
   "source": [
    "res.isnull().sum()"
   ]
  },
  {
   "cell_type": "code",
   "execution_count": 20,
   "metadata": {},
   "outputs": [
    {
     "data": {
      "text/plain": [
       "MurachCollege    31\n",
       "Name: TABLE_CATALOG, dtype: int64"
      ]
     },
     "execution_count": 20,
     "metadata": {},
     "output_type": "execute_result"
    }
   ],
   "source": [
    "res.TABLE_CATALOG.value_counts()"
   ]
  },
  {
   "cell_type": "code",
   "execution_count": null,
   "metadata": {},
   "outputs": [],
   "source": []
  }
 ],
 "metadata": {
  "interpreter": {
   "hash": "ad2bdc8ecc057115af97d19610ffacc2b4e99fae6737bb82f5d7fb13d2f2c186"
  },
  "kernelspec": {
   "display_name": "Python 3.7.4 ('base')",
   "language": "python",
   "name": "python3"
  },
  "language_info": {
   "codemirror_mode": {
    "name": "ipython",
    "version": 3
   },
   "file_extension": ".py",
   "mimetype": "text/x-python",
   "name": "python",
   "nbconvert_exporter": "python",
   "pygments_lexer": "ipython3",
   "version": "3.7.4"
  },
  "orig_nbformat": 4
 },
 "nbformat": 4,
 "nbformat_minor": 2
}
