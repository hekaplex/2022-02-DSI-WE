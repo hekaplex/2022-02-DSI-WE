{
 "cells": [
  {
   "cell_type": "code",
   "execution_count": 4,
   "metadata": {},
   "outputs": [
    {
     "name": "stdout",
     "output_type": "stream",
     "text": [
      "5\n",
      "simone\n",
      "Laalva\n",
      "['simone', 'maria', 'caroliene', 'thera', 'Thera']\n"
     ]
    }
   ],
   "source": [
    "friends=[\"simone\",\"maria\",\"caroliene\",\"thera\"]\n",
    "\n",
    "type(friends)\n",
    "\n",
    "friends.append (\"Thera\")\n",
    "\n",
    "print(len(friends)\n",
    ")\n",
    "\n",
    "print(friends [0]\n",
    ")\n",
    "friends.append(\"Laalva\")\n",
    "\n",
    "bestie = friends.pop()\n",
    "print(bestie)\n",
    "friends\n",
    "\n",
    "print (friends)\n",
    "\n"
   ]
  },
  {
   "cell_type": "code",
   "execution_count": null,
   "metadata": {},
   "outputs": [],
   "source": []
  }
 ],
 "metadata": {
  "interpreter": {
   "hash": "ad2bdc8ecc057115af97d19610ffacc2b4e99fae6737bb82f5d7fb13d2f2c186"
  },
  "kernelspec": {
   "display_name": "Python 3.7.4 ('base')",
   "language": "python",
   "name": "python3"
  },
  "language_info": {
   "codemirror_mode": {
    "name": "ipython",
    "version": 3
   },
   "file_extension": ".py",
   "mimetype": "text/x-python",
   "name": "python",
   "nbconvert_exporter": "python",
   "pygments_lexer": "ipython3",
   "version": "3.7.4"
  },
  "orig_nbformat": 4
 },
 "nbformat": 4,
 "nbformat_minor": 2
}
