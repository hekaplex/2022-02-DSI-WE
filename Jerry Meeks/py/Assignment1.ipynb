{
 "cells": [
  {
   "cell_type": "markdown",
   "metadata": {},
   "source": [
    "# Assignment\n",
    "* create a variable for a string\n",
    "* use an input\n",
    "* repeat string a number of times from the input\n",
    "\n",
    "OR\n",
    "\n",
    "* code using any Python and scripting we've learn"
   ]
  },
  {
   "cell_type": "code",
   "execution_count": 1,
   "metadata": {},
   "outputs": [],
   "source": [
    "#data types and input function\n",
    "name = input(\"Jerry\")"
   ]
  },
  {
   "cell_type": "code",
   "execution_count": 2,
   "metadata": {},
   "outputs": [
    {
     "data": {
      "text/plain": [
       "'Jerry'"
      ]
     },
     "execution_count": 2,
     "metadata": {},
     "output_type": "execute_result"
    }
   ],
   "source": [
    "name"
   ]
  },
  {
   "cell_type": "markdown",
   "metadata": {},
   "source": [
    "# print function\n",
    "print(\"Hello \"+ name)"
   ]
  },
  {
   "cell_type": "code",
   "execution_count": 3,
   "metadata": {},
   "outputs": [
    {
     "name": "stdout",
     "output_type": "stream",
     "text": [
      "Hello Jerry\n"
     ]
    }
   ],
   "source": [
    "# print function\n",
    "print(\"Hello \"+ name)"
   ]
  },
  {
   "cell_type": "markdown",
   "metadata": {},
   "source": [
    "#ASCII art\n",
    "name = input(\"please type name\")\n",
    "#convert from str to int\n",
    "repeat = int(input(\"number of repeats\"))\n",
    "#add a return special character \n",
    "core_string = \"Hello \"+name+\"\\n\"\n",
    "print(core_string * repeat)"
   ]
  },
  {
   "cell_type": "code",
   "execution_count": 4,
   "metadata": {},
   "outputs": [
    {
     "name": "stdout",
     "output_type": "stream",
     "text": [
      "Hello Jerry\n",
      "Hello Jerry\n",
      "Hello Jerry\n",
      "Hello Jerry\n",
      "Hello Jerry\n",
      "Hello Jerry\n",
      "Hello Jerry\n",
      "\n"
     ]
    }
   ],
   "source": [
    "#ASCII art\n",
    "name = input(\"please type name\")\n",
    "#convert from str to int\n",
    "repeat = int(input(\"number of repeats\"))\n",
    "#add a return special character \n",
    "core_string = \"Hello \"+name+\"\\n\"\n",
    "print(core_string * repeat)"
   ]
  }
 ],
 "metadata": {
  "interpreter": {
   "hash": "9b3f7f1e319df24af42106f37242e9b609bd80d95c23383d5bf49e82fe8f414f"
  },
  "kernelspec": {
   "display_name": "Python 3.9.7 ('base')",
   "language": "python",
   "name": "python3"
  },
  "language_info": {
   "codemirror_mode": {
    "name": "ipython",
    "version": 3
   },
   "file_extension": ".py",
   "mimetype": "text/x-python",
   "name": "python",
   "nbconvert_exporter": "python",
   "pygments_lexer": "ipython3",
   "version": "3.9.7"
  },
  "orig_nbformat": 4
 },
 "nbformat": 4,
 "nbformat_minor": 2
}
