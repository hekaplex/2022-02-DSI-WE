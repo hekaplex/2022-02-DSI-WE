{
 "cells": [
  {
   "cell_type": "markdown",
   "metadata": {},
   "source": [
    "## Exercise\n",
    "Use code to create all of the following to accomplish one or more tasks:\n",
    "1. list\n",
    "1. set\n",
    "1. tuple\n",
    "1. dictionary\n",
    "1. function\n",
    "\n",
    "Extra credit using index of variables and comprehensions"
   ]
  },
  {
   "cell_type": "code",
   "execution_count": null,
   "metadata": {},
   "outputs": [],
   "source": []
  }
 ],
 "metadata": {
  "language_info": {
   "name": "python"
  },
  "orig_nbformat": 4
 },
 "nbformat": 4,
 "nbformat_minor": 2
}
