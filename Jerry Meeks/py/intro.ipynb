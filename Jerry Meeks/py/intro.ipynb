{
 "cells": [
  {
   "cell_type": "code",
   "execution_count": 10,
   "metadata": {},
   "outputs": [],
   "source": [
    "#data types and input function\n",
    "name = input(\"Jerry\")\n"
   ]
  },
  {
   "cell_type": "code",
   "execution_count": 17,
   "metadata": {},
   "outputs": [
    {
     "data": {
      "text/plain": [
       "''"
      ]
     },
     "execution_count": 17,
     "metadata": {},
     "output_type": "execute_result"
    }
   ],
   "source": [
    "name"
   ]
  },
  {
   "cell_type": "code",
   "execution_count": 9,
   "metadata": {},
   "outputs": [
    {
     "name": "stdout",
     "output_type": "stream",
     "text": [
      "Hello\n"
     ]
    }
   ],
   "source": [
    "# print function\n",
    "print(\"Hello \"+ name)"
   ]
  },
  {
   "cell_type": "code",
   "execution_count": 13,
   "metadata": {},
   "outputs": [
    {
     "name": "stdout",
     "output_type": "stream",
     "text": [
      "Requirement already satisfied: pandas in c:\\users\\meeks\\anaconda3\\lib\\site-packages (1.3.4)\n",
      "Requirement already satisfied: pytz>=2017.3 in c:\\users\\meeks\\anaconda3\\lib\\site-packages (from pandas) (2021.3)\n",
      "Requirement already satisfied: numpy>=1.17.3 in c:\\users\\meeks\\anaconda3\\lib\\site-packages (from pandas) (1.20.3)\n",
      "Requirement already satisfied: python-dateutil>=2.7.3 in c:\\users\\meeks\\anaconda3\\lib\\site-packages (from pandas) (2.8.2)\n",
      "Requirement already satisfied: six>=1.5 in c:\\users\\meeks\\anaconda3\\lib\\site-packages (from python-dateutil>=2.7.3->pandas) (1.16.0)\n"
     ]
    }
   ],
   "source": [
    "#Ex. code may have \"import pandas\"\n",
    "!pip install pandas"
   ]
  },
  {
   "cell_type": "code",
   "execution_count": 14,
   "metadata": {},
   "outputs": [
    {
     "name": "stdout",
     "output_type": "stream",
     "text": [
      " Volume in drive C is Windows\n",
      " Volume Serial Number is C4EF-B0BC\n",
      "\n",
      " Directory of C:\\\n",
      "\n",
      "01/14/2022  08:18 AM    <DIR>          hpswsetup\n",
      "05/19/2022  03:02 PM    <DIR>          Intel\n",
      "03/06/2022  05:02 PM    <DIR>          Multiple Files in a Folder\n",
      "06/05/2021  07:10 AM    <DIR>          PerfLogs\n",
      "04/10/2022  10:33 AM    <DIR>          PL300\n",
      "06/04/2022  07:30 AM    <DIR>          Program Files\n",
      "04/15/2022  02:12 AM    <DIR>          Program Files (x86)\n",
      "02/27/2022  12:51 PM    <DIR>          SQL2019\n",
      "04/30/2022  10:56 AM    <DIR>          SWSetup\n",
      "01/29/2022  10:13 PM    <DIR>          Users\n",
      "05/19/2022  03:02 PM    <DIR>          Windows\n",
      "               0 File(s)              0 bytes\n",
      "              11 Dir(s)  356,595,052,544 bytes free\n"
     ]
    }
   ],
   "source": [
    "'''\n",
    "multi-line comments\n",
    "creted by using\n",
    "three single quotes\n",
    "'''\n",
    "var = 'C:\\\\' #single line commment - set variable and use special character for '\\'\n",
    "!dir $var"
   ]
  },
  {
   "cell_type": "code",
   "execution_count": 16,
   "metadata": {},
   "outputs": [
    {
     "name": "stdout",
     "output_type": "stream",
     "text": [
      "Requirement already satisfied: pip in c:\\users\\meeks\\anaconda3\\lib\\site-packages (21.2.4)\n",
      "Collecting pip\n",
      "  Using cached pip-22.1.2-py3-none-any.whl (2.1 MB)\n",
      "Installing collected packages: pip\n",
      "Successfully installed pip-22.1.2\n"
     ]
    },
    {
     "name": "stderr",
     "output_type": "stream",
     "text": [
      "  WARNING: The scripts pip.exe, pip3.10.exe, pip3.9.exe and pip3.exe are installed in 'C:\\Users\\meeks\\AppData\\Roaming\\Python\\Python39\\Scripts' which is not on PATH.\n",
      "  Consider adding this directory to PATH or, if you prefer to suppress this warning, use --no-warn-script-location.\n"
     ]
    }
   ],
   "source": [
    "!pip install --upgrade pip --user"
   ]
  }
 ],
 "metadata": {
  "interpreter": {
   "hash": "2a1f8980f3ef1514781b0874d2b5fe082e7f5a255cb985432ae95d7f8538312e"
  },
  "kernelspec": {
   "display_name": "Python 3.9.7 ('base')",
   "language": "python",
   "name": "python3"
  },
  "language_info": {
   "codemirror_mode": {
    "name": "ipython",
    "version": 3
   },
   "file_extension": ".py",
   "mimetype": "text/x-python",
   "name": "python",
   "nbconvert_exporter": "python",
   "pygments_lexer": "ipython3",
   "version": "3.9.7"
  },
  "orig_nbformat": 4
 },
 "nbformat": 4,
 "nbformat_minor": 2
}
