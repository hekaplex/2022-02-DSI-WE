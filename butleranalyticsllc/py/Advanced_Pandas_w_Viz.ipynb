## Advanced Pandas, Basic Python Viz and Exercise

### Exercise
1. Use the same dataframes you generated or copied to this directory from the 03 Exercise:
    a. Extract of any SQL database 
    b. Imported file from your capstone work
    c. Any other data from other exercises you have aleady used
2. Import into Pandas
3. Generate at least three additional dataframes with analytics introduced in this notebook
    a. Melt
    b. Pivot
    c. Quantile
    d. Aggregations
4. Build at least three  visualizations supported by Pandas directly using prior analytics from the 03 Exercise or new analytics from this exercise