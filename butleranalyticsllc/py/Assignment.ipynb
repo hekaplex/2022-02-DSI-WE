{
 "cells": [
  {
   "cell_type": "markdown",
   "metadata": {},
   "source": [
    "## Assignment - Python Input and ouptut\n",
    "The user submits and input of their career choice and the output will display the career choice.\n"
   ]
  },
  {
   "cell_type": "code",
   "execution_count": 29,
   "metadata": {},
   "outputs": [
    {
     "name": "stdout",
     "output_type": "stream",
     "text": [
      "Thank you Teresa !\n",
      "Data Analyst = 1\n",
      "Data Engineer = 2\n",
      "Data Scientist = 3\n"
     ]
    }
   ],
   "source": [
    "#input function with ouput of chosen career\n",
    "name = input (\"Hello.  What is your name?\")\n",
    "print(\"Thank you\",name,\"!\")\n",
    "career_id = input(\"What is your future career choice.  Please enter a number:  Data Analyst [1] Data Engineer [2] Data Scientist [3]\")\n",
    "career_list = {\"Data Analyst\": 1, \"Data Engineer\": 2, \"Data Scientist\": 3}\n",
    "#I would like to modify code to just print the chosen career and a description of that career\n",
    "for k, v in d.items():\n",
    "    print(k, v, sep=\" = \")"
   ]
  }
 ],
 "metadata": {
  "language_info": {
   "name": "python"
  },
  "orig_nbformat": 4
 },
 "nbformat": 4,
 "nbformat_minor": 2
}
