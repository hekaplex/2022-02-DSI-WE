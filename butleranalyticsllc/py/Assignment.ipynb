{
 "cells": [
  {
   "cell_type": "markdown",
   "metadata": {},
   "source": [
    "## Assignment - Python Input and ouptut\n",
    "The user submits an input of their career choice and the output will display the career choices.\n",
    "\n"
   ]
  },
  {
   "cell_type": "code",
   "execution_count": 30,
   "metadata": {},
   "outputs": [
    {
     "name": "stdout",
     "output_type": "stream",
     "text": [
      "Thank you Teresa !\n",
      "Data Analyst = 1\n",
      "Data Engineer = 2\n",
      "Data Scientist = 3\n"
     ]
    }
   ],
   "source": [
    "#input function with ouput of chosen career\n",
    "#Ask for user's name for personalization\n",
    "name = input (\"Hello.  What is your name?\")\n",
    "print(\"Thank you\",name,\"!\")\n",
    "\n",
    "#Ask user for career choice\n",
    "career_id = input(\"What is your future career choice.  Please enter a number:  Data Analyst [1] Data Engineer [2] Data Scientist [3]\")\n",
    "\n",
    "#Create a list of the career choices\n",
    "career_list = {\"Data Analyst\": 1, \"Data Engineer\": 2, \"Data Scientist\": 3}\n",
    "\n",
    "#FUTURE MODIFICAITON:  I would like to modify code to just print the chosen career and a description of that career\n",
    "\n",
    "#For the items in the list, print a formatted output\n",
    "for k, v in career_list.items():\n",
    "    print(k, v, sep=\" = \")"
   ]
  }
 ],
 "metadata": {
  "language_info": {
   "name": "python"
  },
  "orig_nbformat": 4
 },
 "nbformat": 4,
 "nbformat_minor": 2
}
