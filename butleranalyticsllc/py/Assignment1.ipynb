{
 "cells": [
  {
   "cell_type": "markdown",
   "metadata": {},
   "source": [
    "## Assignment 1 - Python Input and ouptut (Teresa Butler)\n",
    "The user submits an input of their career choice and the output will display the list of all three career choices.\n",
    "\n"
   ]
  },
  {
   "cell_type": "code",
   "execution_count": 2,
   "metadata": {},
   "outputs": [
    {
     "name": "stdout",
     "output_type": "stream",
     "text": [
      "Thank you Teresa !\n",
      "Data Analyst = 1\n",
      "Data Engineer = 2\n",
      "Data Scientist = 3\n"
     ]
    }
   ],
   "source": [
    "#input function with ouput of chosen career\n",
    "#Ask for user's name for personalization\n",
    "name = input (\"Hello.  What is your name?\")\n",
    "print(\"Thank you \"+name,\"!\")\n",
    "\n",
    "#Ask user for career choice\n",
    "career_id = input(\"What is your future career choice.  Please enter a number:  Data Analyst [1] Data Engineer [2] Data Scientist [3]\")\n",
    "\n",
    "#Create a list of the career choices - updated variable to add d to denote dictionary\n",
    "d_career_list = {\"Data Analyst\": 1, \"Data Engineer\": 2, \"Data Scientist\": 3}\n",
    "\n",
    "#FUTURE MODIFICAITON:  I would like to modify code to just print the chosen career and a description of that career\n",
    "# add a conditional block - if career_list is 1 - trying mapping an int\n",
    "\n",
    "####################################  \n",
    "# WORK ON ADDING A IF ELSE TO OUTPUT \n",
    "####################################\n",
    "#def sillytry(keyname):\n",
    "    #exception handling\n",
    "    #try block\n",
    "#   try:\n",
    "#      value = my_dict2[keyname]\n",
    "#    except KeyError:\n",
    "#        value = 'invalid key'\n",
    "#    finally:\n",
    "#        print('end')\n",
    "#    if type(value) == str:\n",
    "#        print(\"string\")\n",
    "#    elif type(value) == int:\n",
    "#        print(\"int\")\n",
    "#    else:\n",
    "#        print(\"unknown\")\n",
    "#    return value\n",
    "#\n",
    "#print(sillytry('e'))\n",
    "####################################  \n",
    "# WORK ON ADDING A IF ELSE TO OUTPUT \n",
    "####################################\n",
    "\n",
    "#For the items in the list, print a formatted output\n",
    "for k, v in d_career_list.items():\n",
    "    print(k, v, sep=\" = \")\n",
    "\n"
   ]
  }
 ],
 "metadata": {
  "interpreter": {
   "hash": "442800d42f5f04f097540d9f09188962468dd409a210e43115278e4f9f664f74"
  },
  "kernelspec": {
   "display_name": "Python 3.9.7 ('base')",
   "language": "python",
   "name": "python3"
  },
  "language_info": {
   "codemirror_mode": {
    "name": "ipython",
    "version": 3
   },
   "file_extension": ".py",
   "mimetype": "text/x-python",
   "name": "python",
   "nbconvert_exporter": "python",
   "pygments_lexer": "ipython3",
   "version": "3.9.7"
  },
  "orig_nbformat": 4
 },
 "nbformat": 4,
 "nbformat_minor": 2
}
