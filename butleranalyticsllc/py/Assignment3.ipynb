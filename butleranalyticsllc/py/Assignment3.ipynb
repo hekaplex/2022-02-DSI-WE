{
 "cells": [
  {
   "cell_type": "markdown",
   "metadata": {},
   "source": [
    "## Assigntment 3 - Create a complex data type (Teresa Butler)\n",
    "\n",
    "### 1.  Use a combination of at least two of these data structure in one variable\n",
    "    a.  list\n",
    "    b.  dictionary\n",
    "    c.  tuple\n",
    "    d.  set\n",
    "\n",
    "### 2.  Write two functions\n",
    "    a.  Requirements\n",
    "        Use exception handling\n",
    "    b.  one function that read1s a file from the complex data type\n",
    "    c.  one function that writes a file from the complex data type"
   ]
  },
  {
   "cell_type": "code",
   "execution_count": null,
   "metadata": {},
   "outputs": [],
   "source": [
    "# I will complete later this week"
   ]
  }
 ],
 "metadata": {
  "interpreter": {
   "hash": "442800d42f5f04f097540d9f09188962468dd409a210e43115278e4f9f664f74"
  },
  "kernelspec": {
   "display_name": "Python 3.9.7 ('base')",
   "language": "python",
   "name": "python3"
  },
  "language_info": {
   "codemirror_mode": {
    "name": "ipython",
    "version": 3
   },
   "file_extension": ".py",
   "mimetype": "text/x-python",
   "name": "python",
   "nbconvert_exporter": "python",
   "pygments_lexer": "ipython3",
   "version": "3.9.7"
  },
  "orig_nbformat": 4
 },
 "nbformat": 4,
 "nbformat_minor": 2
}
