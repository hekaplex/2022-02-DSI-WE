{
 "cells": [
  {
   "cell_type": "markdown",
   "metadata": {},
   "source": [
    "## Assigntment 3 - (Teresa Butler)\n",
    "TBD"
   ]
  },
  {
   "cell_type": "code",
   "execution_count": null,
   "metadata": {},
   "outputs": [],
   "source": [
    " #input function with ouput of chosen career\n",
    "#Ask for user's name for personalization\n",
    "name = input (\"Hello.  What is your name?\")\n",
    "print(\"Thank you \"+name,\"!\")\n",
    "\n",
    "#Ask user for career choice\n",
    "career_id = input(\"What is your future career choice.  Please enter a number:  Data Analyst [1] Data Engineer [2] Data Scientist [3]\")\n",
    "#Create a list of the career choices - updated variable to add d to denote dictionary\n",
    "d_career_list = {\"Data Analyst\": 1, \"Data Engineer\": 2, \"Data Scientist\": 3}\n",
    "\n",
    "\n",
    "####################################  \n",
    "# NEED TO FIX THE IF STATEMENT BELOW\n",
    "####################################\n",
    "\n",
    "#if career_id & 1:\n",
    "     #print(name, \", you chose Data Analyst\")\n",
    "     #elif d_career_list.values (2):\n",
    "         #print(name, \", you chose Data Engineer\")\n",
    "         #else:\n",
    "              #print(name, \", you chose Data Scientist\")\n",
    "              #return value\n",
    "#For the items in the list, print a formatted output\n",
    "\n",
    "for k, v in d_career_list.items():\n",
    "    print(k, v, sep=\" = \")\n"
   ]
  },
  {
   "cell_type": "code",
   "execution_count": null,
   "metadata": {},
   "outputs": [],
   "source": [
    "def item_list (d_x): \n",
    "    return [x for x in d_x.items()]\n",
    "item_list(d_career_list)"
   ]
  }
 ],
 "metadata": {
  "language_info": {
   "name": "python"
  },
  "orig_nbformat": 4
 },
 "nbformat": 4,
 "nbformat_minor": 2
}
