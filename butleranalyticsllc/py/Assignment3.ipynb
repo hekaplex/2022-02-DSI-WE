{
 "cells": [
  {
   "cell_type": "markdown",
   "metadata": {},
   "source": [
    "## Assigntment 3 - Create a complex data type (Teresa Butler)\n",
    "\n",
    "### 1.  Use a combination of at least two of these data structure in one variable\n",
    "    a.  list\n",
    "    b.  dictionary\n",
    "    c.  tuple\n",
    "    d.  set\n",
    "\n",
    "### 2.  Write two functions\n",
    "    a.  Requirements\n",
    "        Use exception handling\n",
    "    b.  one function that read1s a file from the complex data type\n",
    "    c.  one function that writes a file from the complex data type"
   ]
  },
  {
   "cell_type": "markdown",
   "metadata": {},
   "source": [
    "## My Completed Assignment Description\n",
    "1.  My solution will ask a student to input their name and thier career choice by selecting a number (careerid) from a **tuple**.\n",
    "2.  A **dictionary** will be used to map the careerid **index** to the careerfield string name.\n",
    "3.  To incorporate **exception handling**, an error message will be displayed if the student selects a number that is not in the **tuple**.  The student will be prompted to re-enter a valid number.\n",
    "4.  Upon entry of a valid careerid number, the user will be presented with their chosen career field name and a description of the chosen career. The career description will be read from a file using a **function**.  \n",
    "5.  The user's name and career choice will be written into a file using a **function**."
   ]
  },
  {
   "cell_type": "code",
   "execution_count": 3,
   "metadata": {},
   "outputs": [
    {
     "name": "stdout",
     "output_type": "stream",
     "text": [
      "Thank you Sam!\n",
      "\n",
      "You chose Data Engineer\n",
      "\n",
      "A data engineer is responsible for developing, testing, and maintaining data architectures. They are responsible for creating the databases and processing systems necessary for organizations to pull data for analysis. They build data pipelines that connect systems to each other and transform data from one format to another. It is the role of the data engineer to maintain the data infrastructures within an organization necessary for other roles such as data scientists and data analysts to fulfill their responsibilities.  \n",
      "\n"
     ]
    }
   ],
   "source": [
    "careerid=('1','2','3')\n",
    "d1={'careerfield':{careerid[0]:'Data Analyst', \n",
    "                   careerid[1]:'Data Engineer',\n",
    "                   careerid[2]:'Data Scientist'}\n",
    "   }\n",
    "name = input (\"Hello.  What is your name?\")\n",
    "print(\"Thank you \"+name+\"!\\n\")\n",
    "input_careerid = input(\n",
    "    \"What is your future career choice.\\n\"\n",
    "    \"Please select a number:  Data Analyst [1] Data Engineer [2] Data Scientist [3]\\n\")\n",
    "\n",
    "#VALIDATION OF INPUT NOT WORKING!!!!!\n",
    "#if input_careerid != careerid():\n",
    "#input_careerid = input('You did not select a valid number.  Please select a number:  Data Analyst [1] Data Engineer [2] Data Scientist [3]\\n')    \n",
    "\n",
    "#WRITING FILE NOT WORKING!!!!!\n",
    "#Write Student name and career ID into a file using function\n",
    "#with open(\"students.txt\", \"a\") as file:\n",
    "#file.write(+name+\"!\"\"\\n\")\n",
    "#!head students.txt\n",
    "\n",
    "if input_careerid==careerid[0]:\n",
    "    print(\"You chose \"+d1['careerfield'][careerid[0]]+\"\\n\")\n",
    "    #Read file to retrieve career description\n",
    "    text_file = open(\"da.txt\", \"r\")\n",
    "    data = text_file.read()\n",
    "    text_file.close()\n",
    "    print(data) \n",
    "elif input_careerid==careerid[1]:\n",
    "    print(\"You chose \"+d1['careerfield'][careerid[1]]+\"\\n\")\n",
    "    #Read file to retrieve career description\n",
    "    text_file = open(\"de.txt\", \"r\")\n",
    "    data = text_file.read()\n",
    "    text_file.close()\n",
    "    print(data) \n",
    "else: \n",
    "    print(\"You chose \"+d1['careerfield'][careerid[2]]+\"\\n\") \n",
    "    #Read file to retrieve career description\n",
    "    text_file = open(\"ds.txt\", \"r\")\n",
    "    data = text_file.read()\n",
    "    text_file.close()\n",
    "    print(data)"
   ]
  }
 ],
 "metadata": {
  "interpreter": {
   "hash": "442800d42f5f04f097540d9f09188962468dd409a210e43115278e4f9f664f74"
  },
  "kernelspec": {
   "display_name": "Python 3.9.7 ('base')",
   "language": "python",
   "name": "python3"
  },
  "language_info": {
   "codemirror_mode": {
    "name": "ipython",
    "version": 3
   },
   "file_extension": ".py",
   "mimetype": "text/x-python",
   "name": "python",
   "nbconvert_exporter": "python",
   "pygments_lexer": "ipython3",
   "version": "3.9.7"
  },
  "orig_nbformat": 4
 },
 "nbformat": 4,
 "nbformat_minor": 2
}
