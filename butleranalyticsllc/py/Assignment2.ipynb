{
 "cells": [
  {
   "cell_type": "markdown",
   "metadata": {},
   "source": [
    "## Assigntment 2 - (Teresa Butler)\n",
    "Use code to create all of the following to accomplish one or more tasks:\n",
    "1. list - writable, iterable\n",
    "1. set - read-only, non-iterable\n",
    "1. tuple -- Read Only, non-iterable; usually made by functions\n",
    "1. dictionary - writable, iterable\n",
    "1. function\n",
    "\n",
    "Extra credit using index of variables and comprehensions"
   ]
  },
  {
   "cell_type": "markdown",
   "metadata": {},
   "source": [
    "DICTIONARY:  Below is a function to return the list of the career list"
   ]
  },
  {
   "cell_type": "code",
   "execution_count": 29,
   "metadata": {},
   "outputs": [
    {
     "name": "stdout",
     "output_type": "stream",
     "text": [
      "Thank you Teresa !\n",
      "Data Analyst = 1\n",
      "Data Engineer = 2\n",
      "Data Scientist = 3\n"
     ]
    }
   ],
   "source": [
    "#input function with ouput of chosen career\n",
    "#Ask for user's name for personalization\n",
    "name = input (\"Hello.  What is your name?\")\n",
    "print(\"Thank you \"+name,\"!\")\n",
    "\n",
    "#Ask user for career choice\n",
    "career_id = input(\"What is your future career choice.  Please enter a number:  Data Analyst [1] Data Engineer [2] Data Scientist [3]\")\n",
    "#Create a list of the career choices - updated variable to add d to denote dictionary\n",
    "d_career_list = {\"Data Analyst\": 1, \"Data Engineer\": 2, \"Data Scientist\": 3}\n",
    "\n",
    "\n",
    "for k, v in d_career_list.items():\n",
    "    print(k, v, sep=\" = \")\n"
   ]
  },
  {
   "cell_type": "markdown",
   "metadata": {},
   "source": [
    "FUNCTION:  Below is a function to return the list of the career list"
   ]
  },
  {
   "cell_type": "code",
   "execution_count": 30,
   "metadata": {},
   "outputs": [
    {
     "data": {
      "text/plain": [
       "[('Data Analyst', 1), ('Data Engineer', 2), ('Data Scientist', 3)]"
      ]
     },
     "execution_count": 30,
     "metadata": {},
     "output_type": "execute_result"
    }
   ],
   "source": [
    "def item_list (d_x): \n",
    "    return [x for x in d_x.items()]\n",
    "item_list(d_career_list)"
   ]
  }
 ],
 "metadata": {
  "interpreter": {
   "hash": "442800d42f5f04f097540d9f09188962468dd409a210e43115278e4f9f664f74"
  },
  "kernelspec": {
   "display_name": "Python 3.9.7 ('base')",
   "language": "python",
   "name": "python3"
  },
  "language_info": {
   "codemirror_mode": {
    "name": "ipython",
    "version": 3
   },
   "file_extension": ".py",
   "mimetype": "text/x-python",
   "name": "python",
   "nbconvert_exporter": "python",
   "pygments_lexer": "ipython3",
   "version": "3.9.7"
  },
  "orig_nbformat": 4
 },
 "nbformat": 4,
 "nbformat_minor": 2
}
