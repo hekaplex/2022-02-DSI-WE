{
 "cells": [
  {
   "cell_type": "code",
   "execution_count": 24,
   "metadata": {},
   "outputs": [
    {
     "name": "stdout",
     "output_type": "stream",
     "text": [
      "Snuffy\n",
      "Big Bird\n",
      "Ernest\n",
      "Bert\n",
      "Grover\n",
      "S\n",
      "e\n",
      "s\n",
      "a\n",
      "m\n",
      "e\n"
     ]
    },
    {
     "ename": "AttributeError",
     "evalue": "'tuple' object has no attribute 'append'",
     "output_type": "error",
     "traceback": [
      "\u001b[1;31m---------------------------------------------------------------------------\u001b[0m",
      "\u001b[1;31mAttributeError\u001b[0m                            Traceback (most recent call last)",
      "\u001b[1;32mc:\\Users\\wifey\\Desktop\\2022-02-DSI-WE\\John Steigner\\2022-02-DSI-WE\\wavesoflight_J-STEIGNER\\py\\assignment2.ipynb Cell 1'\u001b[0m in \u001b[0;36m<cell line: 26>\u001b[1;34m()\u001b[0m\n\u001b[0;32m     <a href='vscode-notebook-cell:/c%3A/Users/wifey/Desktop/2022-02-DSI-WE/John%20Steigner/2022-02-DSI-WE/wavesoflight_J-STEIGNER/py/assignment2.ipynb#ch0000000?line=21'>22</a>\u001b[0m \u001b[39mtype\u001b[39m(besties_tuple)\n\u001b[0;32m     <a href='vscode-notebook-cell:/c%3A/Users/wifey/Desktop/2022-02-DSI-WE/John%20Steigner/2022-02-DSI-WE/wavesoflight_J-STEIGNER/py/assignment2.ipynb#ch0000000?line=23'>24</a>\u001b[0m besties_tuple[\u001b[39m4\u001b[39m]\n\u001b[1;32m---> <a href='vscode-notebook-cell:/c%3A/Users/wifey/Desktop/2022-02-DSI-WE/John%20Steigner/2022-02-DSI-WE/wavesoflight_J-STEIGNER/py/assignment2.ipynb#ch0000000?line=25'>26</a>\u001b[0m besties_tuple\u001b[39m.\u001b[39;49mappend(\u001b[39m\"\u001b[39m\u001b[39mGordon\u001b[39m\u001b[39m\"\u001b[39m)\n\u001b[0;32m     <a href='vscode-notebook-cell:/c%3A/Users/wifey/Desktop/2022-02-DSI-WE/John%20Steigner/2022-02-DSI-WE/wavesoflight_J-STEIGNER/py/assignment2.ipynb#ch0000000?line=27'>28</a>\u001b[0m besties_set \u001b[39m=\u001b[39m{\u001b[39m\"\u001b[39m\u001b[39mSnuffy\u001b[39m\u001b[39m\"\u001b[39m, \u001b[39m\"\u001b[39m\u001b[39mBig Bird\u001b[39m\u001b[39m\"\u001b[39m, \u001b[39m\"\u001b[39m\u001b[39mErnest\u001b[39m\u001b[39m\"\u001b[39m, \u001b[39m\"\u001b[39m\u001b[39mBert\u001b[39m\u001b[39m\"\u001b[39m, \u001b[39m\"\u001b[39m\u001b[39mGrover\u001b[39m\u001b[39m\"\u001b[39m, \u001b[39m\"\u001b[39m\u001b[39mGordon\u001b[39m\u001b[39m\"\u001b[39m}\n\u001b[0;32m     <a href='vscode-notebook-cell:/c%3A/Users/wifey/Desktop/2022-02-DSI-WE/John%20Steigner/2022-02-DSI-WE/wavesoflight_J-STEIGNER/py/assignment2.ipynb#ch0000000?line=28'>29</a>\u001b[0m \u001b[39mtype\u001b[39m(besties_set)\n",
      "\u001b[1;31mAttributeError\u001b[0m: 'tuple' object has no attribute 'append'"
     ]
    }
   ],
   "source": [
    "besties =[\"Big\",\"Ernest\",\"Bert\",\"Grover\"]\n",
    "type(besties)\n",
    "\n",
    "len(besties)\n",
    "\n",
    "besties[3]\n",
    "\n",
    "besties.append(\"Snuffy\")\n",
    "besties\n",
    "\n",
    "large_pet = besties.pop()\n",
    "print(large_pet)\n",
    "besties\n",
    "\n",
    "for character in besties: print(character)\n",
    "\n",
    "for letter in \"Sesame\": print(letter)\n",
    "\n",
    "large_pet[5]\n",
    "\n",
    "besties_tuple = (\"Grover\", \"Big Bird\", \"Bert\", \"Snuffy\", \"Ernest\")\n",
    "type(besties_tuple)\n",
    "\n",
    "besties_tuple[4]\n",
    "\n",
    "besties_tuple.append(\"Gordon\")\n",
    "\n",
    "besties_set ={\"Snuffy\", \"Big Bird\", \"Ernest\", \"Bert\", \"Grover\", \"Gordon\"}\n",
    "type(besties_set)\n",
    "\n",
    "humans = {\"Mr. Hooper\", \"Bob Johnson\", \"Gloria\", \"Gordon\"}\n",
    "\n",
    "humans & besties_set\n",
    "\n",
    "humans | besties_set\n",
    "\n",
    "counting = [1,2,3,4,5,6,7,8,2,9,9,10,11,3,7,12]\n",
    "set(counting)\n",
    "\n",
    "sdict = {\"a\":1 , \"b\":2}\n",
    "type(sdict)\n",
    "\n",
    "d_humans ={k:len(k) for k in humans}\n",
    "\n",
    "d_humans.keys()\n",
    "\n",
    "d_humans.values()\n",
    "\n",
    "d_humans[\"Gordon\"] = 6\n",
    "d_humans\n",
    "\n",
    "def count_char(name):\n",
    "    '''counts number of characters in input'''\n",
    "    return len(name)\n",
    "\n",
    "count_char(\"Barkley\")\n",
    "\n",
    "nd = {\"name\":\"Barkley\"}\n",
    "\n",
    "type(nd)\n",
    "\n",
    "count_char(**nd)\n",
    "\n",
    "print(\"heyyyy there \"+large_pet)\n",
    "\n",
    "print(f\"Hello {besties}\")\n",
    "\n",
    "print(\"Hello {}\".format(*besties))\n",
    "\n",
    "def count_char2(name):\n",
    "    return name, len(name)\n",
    "\n",
    "count_char2(**nd)\n",
    "\n",
    "nm, num = count_char2(**nd)\n",
    "print(nm)\n",
    "print(num)\n",
    "\n",
    "tup = count_char2(**nd)\n",
    "type(tup)"
   ]
  },
  {
   "cell_type": "markdown",
   "metadata": {},
   "source": [
    "## Exercise\n",
    "Use code to create all of the following to accomplish one or more tasks:\n",
    "1. list\n",
    "1. set\n",
    "1. tuple\n",
    "1. dictionary\n",
    "1. function\n",
    "\n",
    "Extra credit using index of variables and comprehensions\n",
    "\n",
    "\n"
   ]
  }
 ],
 "metadata": {
  "interpreter": {
   "hash": "d7288e82646d3164eca24130947288f8779d11454649f2c02a5dfc42af7f324c"
  },
  "kernelspec": {
   "display_name": "Python 3.9.12 ('base')",
   "language": "python",
   "name": "python3"
  },
  "language_info": {
   "codemirror_mode": {
    "name": "ipython",
    "version": 3
   },
   "file_extension": ".py",
   "mimetype": "text/x-python",
   "name": "python",
   "nbconvert_exporter": "python",
   "pygments_lexer": "ipython3",
   "version": "3.9.12"
  },
  "orig_nbformat": 4
 },
 "nbformat": 4,
 "nbformat_minor": 2
}