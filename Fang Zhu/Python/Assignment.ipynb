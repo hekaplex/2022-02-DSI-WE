{
 "cells": [
  {
   "cell_type": "markdown",
   "metadata": {},
   "source": [
    "# Assignment #1 For June 5th\n",
    "* create a variable for a string\n",
    "* use an input\n",
    "* repeat string a number of times from the input\n",
    "\n",
    "OR\n",
    "\n",
    "* code using any Python and scripting we've learn"
   ]
  },
  {
   "cell_type": "code",
   "execution_count": 3,
   "metadata": {},
   "outputs": [
    {
     "name": "stdout",
     "output_type": "stream",
     "text": [
      "Hello Fang\tHello Fang\tHello Fang\t\n"
     ]
    }
   ],
   "source": [
    "#Assignmen for June 5th \n",
    "name = input(\"Please type your name\")\n",
    "repeat = int(input(\"Plese type in number of repeats\"))\n",
    "name  = \"Hello \" + name +\"\\t\"\n",
    "print (name * repeat)"
   ]
  },
  {
   "cell_type": "markdown",
   "metadata": {},
   "source": [
    "# Assignment #2 \n",
    "Use code to create all of the following to accomplish one or more tasks:\n",
    "\n",
    "* list\n",
    "* set\n",
    "* tuple\n",
    "* dictionary\n",
    "* function\n",
    "Extra credit using index of variables and comprehensions"
   ]
  },
  {
   "cell_type": "code",
   "execution_count": 72,
   "metadata": {},
   "outputs": [
    {
     "name": "stdout",
     "output_type": "stream",
     "text": [
      "Shopping list for today:\n",
      "\n",
      "milk\n",
      "fruits\n",
      "veggie\n",
      "bread\n",
      "meat\n",
      "seafood\n",
      "\n",
      "Your new shopping list:\n",
      "milk fruits veggie bread meat seafood Tea\n",
      "You have 7 items in your shopping list.\n"
     ]
    }
   ],
   "source": [
    "#using list to create a shopping List\n",
    "shoppingList = ['milk','fruits','veggie','bread','meat']\n",
    "shoppingList.append('seafood')\n",
    "print(\"Shopping list for today:\\n\")\n",
    "for food in shoppingList: print(food) \n",
    "\n",
    "\n",
    "#ask user if want to add anything else to the shopping list\n",
    "answer = input(\"Is there anything else you need to add? Y/N\")\n",
    "\n",
    "# if the answer is Yes, then print out the new list\n",
    "if answer == \"Y\": \n",
    "    add_item = input(\"What would you like to add?\")\n",
    "    shoppingList.append(add_item)\n",
    "    print(\"\\nYour new shopping list:\")\n",
    "    print(*shoppingList)\n",
    "else:\n",
    "    print(\"\\nEnjoy your shopping!\")\n",
    "print (\"You have \" + str(len(shoppingList)) + \" items in your shopping list.\")"
   ]
  },
  {
   "cell_type": "code",
   "execution_count": 70,
   "metadata": {},
   "outputs": [
    {
     "data": {
      "text/plain": [
       "6"
      ]
     },
     "execution_count": 70,
     "metadata": {},
     "output_type": "execute_result"
    }
   ],
   "source": [
    "def count_list(shoppingList):\n",
    "    return len(shoppingList)\n",
    "count_list(shoppingList)\n"
   ]
  }
 ],
 "metadata": {
  "interpreter": {
   "hash": "355a50b7b83d9ec6eded5603aaaec75d32b8bc02e3bab5dbeb73841e0a9f7b64"
  },
  "kernelspec": {
   "display_name": "Python 3.9.12 ('base')",
   "language": "python",
   "name": "python3"
  },
  "language_info": {
   "codemirror_mode": {
    "name": "ipython",
    "version": 3
   },
   "file_extension": ".py",
   "mimetype": "text/x-python",
   "name": "python",
   "nbconvert_exporter": "python",
   "pygments_lexer": "ipython3",
   "version": "3.9.12"
  },
  "orig_nbformat": 4
 },
 "nbformat": 4,
 "nbformat_minor": 2
}
