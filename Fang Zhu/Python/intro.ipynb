{
 "cells": [
  {
   "cell_type": "code",
   "execution_count": 2,
   "metadata": {},
   "outputs": [
    {
     "name": "stdout",
     "output_type": "stream",
     "text": [
      "\n",
      "Comment \n",
      "in \n",
      "multiple \n",
      "line\n"
     ]
    }
   ],
   "source": [
    "#comment 1 line\n",
    "\n",
    "#comment in multiple lines\n",
    "foo = '''\n",
    "Comment \n",
    "in \n",
    "multiple \n",
    "line'''\n",
    "\n",
    "print (foo)"
   ]
  },
  {
   "cell_type": "code",
   "execution_count": 9,
   "metadata": {},
   "outputs": [],
   "source": [
    "alphabet = 'abcdefghijklmnopqrstuvwxyz'"
   ]
  },
  {
   "cell_type": "code",
   "execution_count": 10,
   "metadata": {},
   "outputs": [
    {
     "data": {
      "text/plain": [
       "26"
      ]
     },
     "execution_count": 10,
     "metadata": {},
     "output_type": "execute_result"
    }
   ],
   "source": [
    "type(alphabet)\n",
    "len(alphabet)\n"
   ]
  },
  {
   "cell_type": "code",
   "execution_count": 12,
   "metadata": {},
   "outputs": [
    {
     "name": "stdout",
     "output_type": "stream",
     "text": [
      "Fang\tFang\tFang\t\n"
     ]
    }
   ],
   "source": [
    "#Assignmen for June 5th \n",
    "name = input(\"Please type your name\")\n",
    "repeat = int(input(\"Plese type in number of repeats\"))\n",
    "name  = name +\"\\t\"\n",
    "print (name * repeat)"
   ]
  }
 ],
 "metadata": {
  "interpreter": {
   "hash": "355a50b7b83d9ec6eded5603aaaec75d32b8bc02e3bab5dbeb73841e0a9f7b64"
  },
  "kernelspec": {
   "display_name": "Python 3.9.12 ('base')",
   "language": "python",
   "name": "python3"
  },
  "language_info": {
   "codemirror_mode": {
    "name": "ipython",
    "version": 3
   },
   "file_extension": ".py",
   "mimetype": "text/x-python",
   "name": "python",
   "nbconvert_exporter": "python",
   "pygments_lexer": "ipython3",
   "version": "3.9.12"
  },
  "orig_nbformat": 4
 },
 "nbformat": 4,
 "nbformat_minor": 2
}
