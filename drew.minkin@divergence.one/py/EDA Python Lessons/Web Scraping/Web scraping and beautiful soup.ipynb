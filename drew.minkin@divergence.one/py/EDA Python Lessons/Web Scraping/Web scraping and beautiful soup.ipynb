{
 "cells": [
  {
   "cell_type": "markdown",
   "metadata": {},
   "source": [
    "# Lesson 7: Advanced Web Scraping and Data Gathering\n",
    "## Topic 1: Basics of web-scraping using `requests` and `BeautifulSoup` libraries"
   ]
  },
  {
   "cell_type": "markdown",
   "metadata": {},
   "source": [
    "### Import `requests` library"
   ]
  },
  {
   "cell_type": "code",
   "execution_count": null,
   "metadata": {},
   "outputs": [],
   "source": [
    "!pip install beautifulsoup4"
   ]
  },
  {
   "cell_type": "code",
   "execution_count": null,
   "metadata": {},
   "outputs": [],
   "source": [
    "import requests"
   ]
  },
  {
   "cell_type": "markdown",
   "metadata": {},
   "source": [
    "### Exercise 1: Use `requests` to get a response from the Wikipedia home page"
   ]
  },
  {
   "cell_type": "code",
   "execution_count": null,
   "metadata": {},
   "outputs": [],
   "source": [
    "# First assign the URL of Wikipedia home page to a string \n",
    "wiki_home = \"https://en.wikipedia.org/wiki/Main_Page\""
   ]
  },
  {
   "cell_type": "code",
   "execution_count": null,
   "metadata": {},
   "outputs": [],
   "source": [
    "# Use the 'get' method from requests library to get a response\n",
    "response = requests.get(wiki_home)"
   ]
  },
  {
   "cell_type": "code",
   "execution_count": null,
   "metadata": {},
   "outputs": [],
   "source": [
    "# What is this 'response' object anyway\n",
    "type(response)"
   ]
  },
  {
   "cell_type": "code",
   "execution_count": null,
   "metadata": {},
   "outputs": [],
   "source": [
    "for r in response: print(r)"
   ]
  },
  {
   "cell_type": "markdown",
   "metadata": {},
   "source": [
    "### Exercise 2: Write a small function to check the status of web request\n",
    "\n",
    "This kind of small helper/utility functions are incredibly useful for complex projects.\n",
    "\n",
    "Start building **a habit of writing small functions to accomplish small modular tasks**, instead of writing long scripts, which are hard to debug and track."
   ]
  },
  {
   "cell_type": "code",
   "execution_count": null,
   "metadata": {},
   "outputs": [],
   "source": [
    "def status_check(r):\n",
    "    if r.status_code==200:\n",
    "        print(\"Success!\")\n",
    "        return 1\n",
    "    else:\n",
    "        print(\"Failed!\")\n",
    "        return -1"
   ]
  },
  {
   "cell_type": "code",
   "execution_count": null,
   "metadata": {},
   "outputs": [],
   "source": [
    "status_check(response)"
   ]
  },
  {
   "cell_type": "markdown",
   "metadata": {},
   "source": [
    "### Exercise 3: Write small function to check the encoding of the web page"
   ]
  },
  {
   "cell_type": "code",
   "execution_count": null,
   "metadata": {},
   "outputs": [],
   "source": [
    "def encoding_check(r):\n",
    "    return (r.encoding)"
   ]
  },
  {
   "cell_type": "code",
   "execution_count": 10,
   "metadata": {},
   "outputs": [
    {
     "data": {
      "text/plain": [
       "'UTF-8'"
      ]
     },
     "execution_count": 10,
     "metadata": {},
     "output_type": "execute_result"
    }
   ],
   "source": [
    "encoding_check(response)"
   ]
  },
  {
   "cell_type": "markdown",
   "metadata": {},
   "source": [
    "### Exercise 4: Write a small function to decode the concents of the `response`"
   ]
  },
  {
   "cell_type": "code",
   "execution_count": 11,
   "metadata": {},
   "outputs": [],
   "source": [
    "def decode_content(r,encoding):\n",
    "    return (r.content.decode(encoding))"
   ]
  },
  {
   "cell_type": "code",
   "execution_count": 12,
   "metadata": {},
   "outputs": [],
   "source": [
    "contents = decode_content(response,encoding_check(response))"
   ]
  },
  {
   "cell_type": "markdown",
   "metadata": {},
   "source": [
    "#### What is the type of the contents?"
   ]
  },
  {
   "cell_type": "code",
   "execution_count": 13,
   "metadata": {},
   "outputs": [
    {
     "data": {
      "text/plain": [
       "str"
      ]
     },
     "execution_count": 13,
     "metadata": {},
     "output_type": "execute_result"
    }
   ],
   "source": [
    "type(contents)"
   ]
  },
  {
   "cell_type": "markdown",
   "metadata": {},
   "source": [
    "#### Fantastic! Finally we got a string object. Did you see how easy it was to read text from a popular webpage like Wikipedia?"
   ]
  },
  {
   "cell_type": "markdown",
   "metadata": {},
   "source": [
    "### Exercise 5: Check the length of the text you got back and print some selected portions"
   ]
  },
  {
   "cell_type": "code",
   "execution_count": 14,
   "metadata": {},
   "outputs": [
    {
     "data": {
      "text/plain": [
       "89254"
      ]
     },
     "execution_count": 14,
     "metadata": {},
     "output_type": "execute_result"
    }
   ],
   "source": [
    "len(contents)"
   ]
  },
  {
   "cell_type": "code",
   "execution_count": 15,
   "metadata": {},
   "outputs": [
    {
     "name": "stdout",
     "output_type": "stream",
     "text": [
      "<!DOCTYPE html>\n",
      "<html class=\"client-nojs\" lang=\"en\" dir=\"ltr\">\n",
      "<head>\n",
      "<meta charset=\"UTF-8\"/>\n",
      "<title>Wikipedia, the free encyclopedia</title>\n",
      "<script>document.documentElement.className=\"client-js\";RLCONF={\"wgBreakFrames\":false,\"wgSeparatorTransformTable\":[\"\",\"\"],\"wgDigitTransformTable\":[\"\",\"\"],\"wgDefaultDateFormat\":\"dmy\",\"wgMonthNames\":[\"\",\"January\",\"February\",\"March\",\"April\",\"May\",\"June\",\"July\",\"August\",\"September\",\"October\",\"November\",\"December\"],\"wgRequestId\":\"eda142fd-b4ac-499b-9443-e8d0e01d631c\",\"wgCSPNonce\":false,\"wgCanonicalNamespace\":\"\",\"wgCanonicalSpecialPageName\":false,\"wgNamespaceNumber\":0,\"wgPageName\":\"Main_Page\",\"wgTitle\":\"Main Page\",\"wgCurRevisionId\":1069328725,\"wgRevisionId\":1069328725,\"wgArticleId\":15580374,\"wgIsArticle\":true,\"wgIsRedirect\":false,\"wgAction\":\"view\",\"wgUserName\":null,\"wgUserGroups\":[\"*\"],\"wgCategories\":[],\"wgPageContentLanguage\":\"en\",\"wgPageContentModel\":\"wikitext\",\"wgRelevantPageName\":\"Main_Page\",\"wgRelevantArticleId\":15580374,\"wgIsProbablyEditable\":fals\n"
     ]
    }
   ],
   "source": [
    "print(contents[:1000])"
   ]
  },
  {
   "cell_type": "code",
   "execution_count": 16,
   "metadata": {},
   "outputs": [
    {
     "name": "stdout",
     "output_type": "stream",
     "text": [
      "he Lord of the Rings\">impression of depth</a> and adopting an <a href=\"/wiki/Decline_and_fall_in_Middle-earth#Fading\" title=\"Decline and fall in Middle-earth\">elegiac tone</a>. Tolkien admired the way that the poem, written by a Christian looking back at a <a href=\"/wiki/Paganism\" title=\"Paganism\">pagan</a> past, used symbolism without becoming <a href=\"/wiki/Allegory\" title=\"Allegory\">allegorical</a>. The names of races, including <a href=\"/wiki/Ent\" title=\"Ent\">ents</a>, <a href=\"/wiki/Orc\" title=\"Orc\">orcs</a>, and <a href=\"/wiki/Elf_(Middle-earth)\" title=\"Elf (Middle-earth)\">elves</a>, and placenames such as <a href=\"/wiki/Isengard\" title=\"Isengard\">Orthanc</a> and <a href=\"/wiki/Rohan_(Middle-earth)#Capital\" title=\"Rohan (Middle-earth)\">Meduseld</a>, derive from <i>Beowulf</i>. The <a href=\"/wiki/Rohan_(Middle-earth)\" title=\"Rohan (Middle-earth)\">Riders of Rohan</a> are distinctively Old English. The werebear <a href=\"/wiki/Beorn\" title=\"Beorn\">Beorn</a> in <i><a href=\"/wiki/The_H\n"
     ]
    }
   ],
   "source": [
    "print(contents[15000:16000])"
   ]
  },
  {
   "cell_type": "markdown",
   "metadata": {},
   "source": [
    "### Exercise 6: Use `BeautifulSoup` package to parse the raw HTML text more meaningfully and search for a particular text"
   ]
  },
  {
   "cell_type": "code",
   "execution_count": 18,
   "metadata": {},
   "outputs": [],
   "source": [
    "from bs4 import BeautifulSoup"
   ]
  },
  {
   "cell_type": "code",
   "execution_count": 19,
   "metadata": {},
   "outputs": [],
   "source": [
    "soup = BeautifulSoup(contents, 'html.parser')"
   ]
  },
  {
   "cell_type": "markdown",
   "metadata": {},
   "source": [
    "#### What is this new `soup` object?"
   ]
  },
  {
   "cell_type": "code",
   "execution_count": 20,
   "metadata": {},
   "outputs": [
    {
     "data": {
      "text/plain": [
       "bs4.BeautifulSoup"
      ]
     },
     "execution_count": 20,
     "metadata": {},
     "output_type": "execute_result"
    }
   ],
   "source": [
    "type(soup)"
   ]
  },
  {
   "cell_type": "markdown",
   "metadata": {},
   "source": [
    "### Exercise 7: Can we somehow read intelligible text from this `soup` object?"
   ]
  },
  {
   "cell_type": "code",
   "execution_count": 21,
   "metadata": {},
   "outputs": [],
   "source": [
    "txt_dump=soup.text"
   ]
  },
  {
   "cell_type": "code",
   "execution_count": 22,
   "metadata": {},
   "outputs": [
    {
     "data": {
      "text/plain": [
       "str"
      ]
     },
     "execution_count": 22,
     "metadata": {},
     "output_type": "execute_result"
    }
   ],
   "source": [
    "type(txt_dump)"
   ]
  },
  {
   "cell_type": "code",
   "execution_count": 23,
   "metadata": {},
   "outputs": [
    {
     "data": {
      "text/plain": [
       "9160"
      ]
     },
     "execution_count": 23,
     "metadata": {},
     "output_type": "execute_result"
    }
   ],
   "source": [
    "len(txt_dump)"
   ]
  },
  {
   "cell_type": "code",
   "execution_count": 24,
   "metadata": {},
   "outputs": [
    {
     "name": "stdout",
     "output_type": "stream",
     "text": [
      "n, Inc., a non-profit organization.\n",
      "\n",
      "\n",
      "Privacy policy\n",
      "About Wikipedia\n",
      "Disclaimers\n",
      "Contact Wikipedia\n",
      "Mobile view\n",
      "Developers\n",
      "Statistics\n",
      "Cookie statement\n",
      "\n",
      "\n",
      "\n",
      "\n",
      "\n",
      "\n",
      "\n",
      "\n",
      "\n",
      "\n",
      "\n"
     ]
    }
   ],
   "source": [
    "print(txt_dump[9000:11000])"
   ]
  },
  {
   "cell_type": "markdown",
   "metadata": {},
   "source": [
    "### Exercise 8: Extract the text from the section *'From today's featured article'*"
   ]
  },
  {
   "cell_type": "code",
   "execution_count": 25,
   "metadata": {},
   "outputs": [],
   "source": [
    "# First extract the starting and end indecies of the text we are interested in\n",
    "idx1=txt_dump.find(\"From today's featured article\")\n",
    "idx2=txt_dump.find(\"Recently featured\")"
   ]
  },
  {
   "cell_type": "code",
   "execution_count": 26,
   "metadata": {},
   "outputs": [
    {
     "name": "stdout",
     "output_type": "stream",
     "text": [
      "\n",
      "\n",
      "\n",
      "J. R. R. Tolkien\n",
      "\n",
      "J. R. R. Tolkien drew on Beowulf when creating the fictional world he called Middle-earth for The Lord of the Rings. Tolkien (pictured), a fantasy author, linguist, and philologist, took many elements from the Old English poem Beowulf, including names, monsters, and heroic-age customs and beliefs. He emulated its style, creating an impression of depth and adopting an elegiac tone. Tolkien admired the way that the poem, written by a Christian looking back at a pagan past, used symbolism without becoming allegorical. The names of races, including ents, orcs, and elves, and placenames such as Orthanc and Meduseld, derive from Beowulf. The Riders of Rohan are distinctively Old English. The werebear Beorn in The Hobbit has been likened to the hero Beowulf himself; both names mean \"bear\" and both characters have enormous strength. Scholars have compared some of Tolkien's monsters, including Gollum, the trolls, and the dragon Smaug, to those in the poem. (Full article...)\n",
      "\n",
      "\n",
      "\n"
     ]
    }
   ],
   "source": [
    "print(txt_dump[idx1+len(\"From today's featured article\"):idx2])"
   ]
  },
  {
   "cell_type": "markdown",
   "metadata": {},
   "source": [
    "### Exercise 9: Try to extract the important historical events that happened on today's date..."
   ]
  },
  {
   "cell_type": "code",
   "execution_count": 27,
   "metadata": {},
   "outputs": [],
   "source": [
    "idx3=txt_dump.find(\"On this day\")"
   ]
  },
  {
   "cell_type": "code",
   "execution_count": 28,
   "metadata": {},
   "outputs": [
    {
     "name": "stdout",
     "output_type": "stream",
     "text": [
      "\n",
      "\n",
      "February 25: Soviet Occupation Day in Georgia (1921); National Day in Kuwait (1961)\n",
      "\n",
      "\n",
      "\n",
      "Edvard Beneš\n",
      "\n",
      "628 – Khosrow II, the last great king of the Sasanian Empire, was overthrown by his son Kavad II.\n",
      "1866 – Miners in Calaveras County, California, discovered a human skull that a prominent geologist claimed was proof (later disproved) that humans had existed during the Pliocene.\n",
      "1948 – Fearful of civil war and Soviet intervention in recent unrest, President Edvard Beneš (pictured) ceded control of the government to the Communist Party of Czechoslovakia.\n",
      "1956 – In a speech to the 20th Congress of the Communist Party, Soviet leader Nikita Khrushchev denounced the personality cult and dictatorship of his predecessor Joseph Stalin.\n",
      "1992 – First Nagorno-Karabakh War: Armenian armed forces killed at least 161 ethnic Azerbaijani civilians in the Nagorno-Karabakh village of Khojaly.\n",
      "Sharafkhan Bidlisi  (b. 1543)S. O. Davies  (d. 1972)Yi Han-yong  (d. 1997)\n",
      "\n",
      "More anniversaries: \n",
      "February 24\n",
      "Febr\n"
     ]
    }
   ],
   "source": [
    "print(txt_dump[idx3+len(\"On this day\"):idx3+len(\"On this day\")+1000])"
   ]
  },
  {
   "cell_type": "markdown",
   "metadata": {},
   "source": [
    "### Exercise 10: Use advanced BS4 technique to extract relevant text without guessing or hard coding where to look"
   ]
  },
  {
   "cell_type": "code",
   "execution_count": 29,
   "metadata": {},
   "outputs": [
    {
     "name": "stdout",
     "output_type": "stream",
     "text": [
      "628 – Khosrow II, the last great king of the Sasanian Empire, was overthrown by his son Kavad II.\n",
      "1866 – Miners in Calaveras County, California, discovered a human skull that a prominent geologist claimed was proof (later disproved) that humans had existed during the Pliocene.\n",
      "1948 – Fearful of civil war and Soviet intervention in recent unrest, President Edvard Beneš (pictured) ceded control of the government to the Communist Party of Czechoslovakia.\n",
      "1956 – In a speech to the 20th Congress of the Communist Party, Soviet leader Nikita Khrushchev denounced the personality cult and dictatorship of his predecessor Joseph Stalin.\n",
      "1992 – First Nagorno-Karabakh War: Armenian armed forces killed at least 161 ethnic Azerbaijani civilians in the Nagorno-Karabakh village of Khojaly.\n",
      "Sharafkhan Bidlisi  (b. 1543)S. O. Davies  (d. 1972)Yi Han-yong  (d. 1997)\n",
      "February 24\n",
      "February 25\n",
      "February 26\n",
      "Archive\n",
      "By email\n",
      "List of days of the year\n"
     ]
    }
   ],
   "source": [
    "for d in soup.find_all('div'):\n",
    "        if (d.get('id')=='mp-otd'):\n",
    "            for i in d.find_all('ul'):\n",
    "                print(i.text)"
   ]
  },
  {
   "cell_type": "code",
   "execution_count": 30,
   "metadata": {},
   "outputs": [],
   "source": [
    "text_list=[]\n",
    "for d in soup.find_all('div'):\n",
    "        if (d.get('id')=='mp-otd'):\n",
    "            for i in d.find_all('ul'):\n",
    "                text_list.append(i.text)"
   ]
  },
  {
   "cell_type": "code",
   "execution_count": 31,
   "metadata": {},
   "outputs": [
    {
     "data": {
      "text/plain": [
       "4"
      ]
     },
     "execution_count": 31,
     "metadata": {},
     "output_type": "execute_result"
    }
   ],
   "source": [
    "len(text_list)"
   ]
  },
  {
   "cell_type": "code",
   "execution_count": 32,
   "metadata": {},
   "outputs": [
    {
     "name": "stdout",
     "output_type": "stream",
     "text": [
      "628 – Khosrow II, the last great king of the Sasanian Empire, was overthrown by his son Kavad II.\n",
      "1866 – Miners in Calaveras County, California, discovered a human skull that a prominent geologist claimed was proof (later disproved) that humans had existed during the Pliocene.\n",
      "1948 – Fearful of civil war and Soviet intervention in recent unrest, President Edvard Beneš (pictured) ceded control of the government to the Communist Party of Czechoslovakia.\n",
      "1956 – In a speech to the 20th Congress of the Communist Party, Soviet leader Nikita Khrushchev denounced the personality cult and dictatorship of his predecessor Joseph Stalin.\n",
      "1992 – First Nagorno-Karabakh War: Armenian armed forces killed at least 161 ethnic Azerbaijani civilians in the Nagorno-Karabakh village of Khojaly.\n",
      "----------------------------------------------------------------------------------------------------\n",
      "Sharafkhan Bidlisi  (b. 1543)S. O. Davies  (d. 1972)Yi Han-yong  (d. 1997)\n",
      "----------------------------------------------------------------------------------------------------\n",
      "February 24\n",
      "February 25\n",
      "February 26\n",
      "----------------------------------------------------------------------------------------------------\n",
      "Archive\n",
      "By email\n",
      "List of days of the year\n",
      "----------------------------------------------------------------------------------------------------\n"
     ]
    }
   ],
   "source": [
    "for i in text_list:\n",
    "    print(i)\n",
    "    print('-'*100)"
   ]
  },
  {
   "cell_type": "code",
   "execution_count": null,
   "metadata": {},
   "outputs": [],
   "source": [
    "print(text_list[0])"
   ]
  },
  {
   "cell_type": "markdown",
   "metadata": {},
   "source": [
    "### Functionalize this process i.e. write a compact function to extract \"On this day\" text from Wikipedia Home Page"
   ]
  },
  {
   "cell_type": "code",
   "execution_count": 33,
   "metadata": {},
   "outputs": [],
   "source": [
    "def wiki_on_this_day(url=\"https://en.wikipedia.org/wiki/Main_Page\"):\n",
    "    \"\"\"\n",
    "    Extracts the text corresponding to the \"On this day\" section on the Wikipedia Home Page.\n",
    "    Accepts the Wikipedia Home Page URL as a string, a default URL is provided.\n",
    "    \"\"\"\n",
    "    import requests\n",
    "    from bs4 import BeautifulSoup\n",
    "    \n",
    "    wiki_home = str(url)\n",
    "    response = requests.get(wiki_home)\n",
    "    \n",
    "    def status_check(r):\n",
    "        if r.status_code==200:\n",
    "            return 1\n",
    "        else:\n",
    "            return -1\n",
    "    \n",
    "    status = status_check(response)\n",
    "    if status==1:\n",
    "        contents = decode_content(response,encoding_check(response))\n",
    "    else:\n",
    "        print(\"Sorry could not reach the web page!\")\n",
    "        return -1\n",
    "    \n",
    "    soup = BeautifulSoup(contents, 'html.parser')\n",
    "    text_list=[]\n",
    "    \n",
    "    for d in soup.find_all('div'):\n",
    "            if (d.get('id')=='mp-otd'):\n",
    "                for i in d.find_all('ul'):\n",
    "                    text_list.append(i.text)\n",
    "    \n",
    "    return (text_list[0])"
   ]
  },
  {
   "cell_type": "code",
   "execution_count": 34,
   "metadata": {},
   "outputs": [
    {
     "name": "stdout",
     "output_type": "stream",
     "text": [
      "628 – Khosrow II, the last great king of the Sasanian Empire, was overthrown by his son Kavad II.\n",
      "1866 – Miners in Calaveras County, California, discovered a human skull that a prominent geologist claimed was proof (later disproved) that humans had existed during the Pliocene.\n",
      "1948 – Fearful of civil war and Soviet intervention in recent unrest, President Edvard Beneš (pictured) ceded control of the government to the Communist Party of Czechoslovakia.\n",
      "1956 – In a speech to the 20th Congress of the Communist Party, Soviet leader Nikita Khrushchev denounced the personality cult and dictatorship of his predecessor Joseph Stalin.\n",
      "1992 – First Nagorno-Karabakh War: Armenian armed forces killed at least 161 ethnic Azerbaijani civilians in the Nagorno-Karabakh village of Khojaly.\n"
     ]
    }
   ],
   "source": [
    "print(wiki_on_this_day())"
   ]
  },
  {
   "cell_type": "markdown",
   "metadata": {},
   "source": [
    "#### A wrong URL produces an error message as expected"
   ]
  },
  {
   "cell_type": "code",
   "execution_count": 35,
   "metadata": {},
   "outputs": [
    {
     "name": "stdout",
     "output_type": "stream",
     "text": [
      "Sorry could not reach the web page!\n",
      "-1\n"
     ]
    }
   ],
   "source": [
    "print(wiki_on_this_day(\"https://en.wikipedia.org/wiki/Main_Page1\"))"
   ]
  },
  {
   "cell_type": "code",
   "execution_count": null,
   "metadata": {},
   "outputs": [],
   "source": []
  }
 ],
 "metadata": {
  "kernelspec": {
   "display_name": "Python 3",
   "language": "python",
   "name": "python3"
  },
  "language_info": {
   "codemirror_mode": {
    "name": "ipython",
    "version": 3
   },
   "file_extension": ".py",
   "mimetype": "text/x-python",
   "name": "python",
   "nbconvert_exporter": "python",
   "pygments_lexer": "ipython3",
   "version": "3.8.5"
  },
  "latex_envs": {
   "LaTeX_envs_menu_present": true,
   "autoclose": false,
   "autocomplete": true,
   "bibliofile": "biblio.bib",
   "cite_by": "apalike",
   "current_citInitial": 1,
   "eqLabelWithNumbers": true,
   "eqNumInitial": 1,
   "hotkeys": {
    "equation": "Ctrl-E",
    "itemize": "Ctrl-I"
   },
   "labels_anchors": false,
   "latex_user_defs": false,
   "report_style_numbering": false,
   "user_envs_cfg": false
  }
 },
 "nbformat": 4,
 "nbformat_minor": 2
}
