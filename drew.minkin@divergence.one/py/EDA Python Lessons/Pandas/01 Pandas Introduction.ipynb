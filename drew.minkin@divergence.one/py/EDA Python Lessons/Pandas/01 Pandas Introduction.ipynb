{
 "cells": [
  {
   "cell_type": "markdown",
   "metadata": {},
   "source": [
    "# Pandas Basics"
   ]
  },
  {
   "cell_type": "code",
   "execution_count": null,
   "metadata": {},
   "outputs": [],
   "source": [
    "children = [\"Andrew\",\"Laura\",\"Joe\"]\n",
    "lol_children = [[c, len(c)]  for c in children]\n",
    "lol_children"
   ]
  },
  {
   "cell_type": "code",
   "execution_count": null,
   "metadata": {},
   "outputs": [],
   "source": [
    "# may need to run on download from python.org\n",
    "!pip install pandas"
   ]
  },
  {
   "cell_type": "code",
   "execution_count": null,
   "metadata": {},
   "outputs": [],
   "source": [
    "#DataFrame from LOL\n",
    "import pandas as pd\n",
    "df_lol_children = pd.DataFrame(lol_children,columns = [\"child\",\"charlen\"])\n",
    "df_lol_children"
   ]
  },
  {
   "cell_type": "code",
   "execution_count": null,
   "metadata": {},
   "outputs": [],
   "source": [
    "\n",
    "len_char = [len(c) for c in children]\n",
    "d_children = {\"child\": children, \"charlen\": len_char}\n",
    "d_children\n"
   ]
  },
  {
   "cell_type": "code",
   "execution_count": null,
   "metadata": {},
   "outputs": [],
   "source": [
    "#DataFrame from dictionary\n",
    "df_d_children = pd.DataFrame(d_children)\n",
    "df_d_children"
   ]
  },
  {
   "cell_type": "code",
   "execution_count": null,
   "metadata": {},
   "outputs": [],
   "source": [
    "df_d_children.info()"
   ]
  },
  {
   "cell_type": "markdown",
   "metadata": {},
   "source": [
    "## Get the data"
   ]
  },
  {
   "cell_type": "code",
   "execution_count": 1,
   "metadata": {},
   "outputs": [],
   "source": [
    "import pandas as pd\n",
    "poll_url = 'http://projects.fivethirtyeight.com/general-model/president_general_polls_2016.csv'\n",
    "polls = pd.read_csv(poll_url)"
   ]
  },
  {
   "cell_type": "code",
   "execution_count": 12,
   "metadata": {},
   "outputs": [],
   "source": [
    "import datetime as datetime\n"
   ]
  },
  {
   "cell_type": "code",
   "execution_count": 30,
   "metadata": {},
   "outputs": [
    {
     "name": "stdout",
     "output_type": "stream",
     "text": [
      "<class 'pandas.core.frame.DataFrame'>\n",
      "RangeIndex: 12624 entries, 0 to 12623\n",
      "Data columns (total 27 columns):\n",
      " #   Column            Non-Null Count  Dtype         \n",
      "---  ------            --------------  -----         \n",
      " 0   cycle             12624 non-null  int64         \n",
      " 1   branch            12624 non-null  object        \n",
      " 2   type              12624 non-null  object        \n",
      " 3   matchup           12624 non-null  object        \n",
      " 4   forecastdate      12624 non-null  datetime64[ns]\n",
      " 5   state             12624 non-null  object        \n",
      " 6   startdate         12624 non-null  datetime64[ns]\n",
      " 7   enddate           12624 non-null  object        \n",
      " 8   pollster          12624 non-null  object        \n",
      " 9   grade             11337 non-null  object        \n",
      " 10  samplesize        12621 non-null  float64       \n",
      " 11  population        12624 non-null  object        \n",
      " 12  poll_wt           12624 non-null  float64       \n",
      " 13  rawpoll_clinton   12624 non-null  float64       \n",
      " 14  rawpoll_trump     12624 non-null  float64       \n",
      " 15  rawpoll_johnson   8397 non-null   float64       \n",
      " 16  rawpoll_mcmullin  90 non-null     float64       \n",
      " 17  adjpoll_clinton   12624 non-null  float64       \n",
      " 18  adjpoll_trump     12624 non-null  float64       \n",
      " 19  adjpoll_johnson   8397 non-null   float64       \n",
      " 20  adjpoll_mcmullin  90 non-null     float64       \n",
      " 21  multiversions     36 non-null     object        \n",
      " 22  url               12621 non-null  object        \n",
      " 23  poll_id           12624 non-null  int64         \n",
      " 24  question_id       12624 non-null  int64         \n",
      " 25  createddate       12624 non-null  object        \n",
      " 26  timestamp         12624 non-null  object        \n",
      "dtypes: datetime64[ns](2), float64(10), int64(3), object(12)\n",
      "memory usage: 2.6+ MB\n"
     ]
    }
   ],
   "source": [
    "polls.info()"
   ]
  },
  {
   "cell_type": "code",
   "execution_count": 28,
   "metadata": {},
   "outputs": [
    {
     "data": {
      "text/plain": [
       "10/20/2016    480\n",
       "11/1/2016     465\n",
       "10/25/2016    408\n",
       "10/4/2016     351\n",
       "10/27/2016    300\n",
       "             ... \n",
       "11/13/2015      3\n",
       "11/7/2015       3\n",
       "2/6/2016        3\n",
       "7/3/2016        3\n",
       "12/18/2015      3\n",
       "Name: startdate, Length: 352, dtype: int64"
      ]
     },
     "execution_count": 28,
     "metadata": {},
     "output_type": "execute_result"
    }
   ],
   "source": [
    "polls.startdate.value_counts()"
   ]
  },
  {
   "cell_type": "code",
   "execution_count": 29,
   "metadata": {},
   "outputs": [],
   "source": [
    "polls[\"startdate\"] = pd.to_datetime(polls[\"startdate\"])"
   ]
  },
  {
   "cell_type": "code",
   "execution_count": 19,
   "metadata": {},
   "outputs": [
    {
     "data": {
      "text/plain": [
       "0    11/8/16\n",
       "1    11/8/16\n",
       "2    11/8/16\n",
       "3    11/8/16\n",
       "4    11/8/16\n",
       "Name: forecastdate, dtype: object"
      ]
     },
     "execution_count": 19,
     "metadata": {},
     "output_type": "execute_result"
    }
   ],
   "source": [
    "polls.forecastdate.head(5)"
   ]
  },
  {
   "cell_type": "code",
   "execution_count": 24,
   "metadata": {},
   "outputs": [],
   "source": [
    "polls[\"forecastdate\"] = pd.to_datetime(polls[\"forecastdate\"])"
   ]
  },
  {
   "cell_type": "code",
   "execution_count": 25,
   "metadata": {},
   "outputs": [
    {
     "name": "stdout",
     "output_type": "stream",
     "text": [
      "<class 'pandas.core.frame.DataFrame'>\n",
      "RangeIndex: 12624 entries, 0 to 12623\n",
      "Data columns (total 27 columns):\n",
      " #   Column            Non-Null Count  Dtype         \n",
      "---  ------            --------------  -----         \n",
      " 0   cycle             12624 non-null  int64         \n",
      " 1   branch            12624 non-null  object        \n",
      " 2   type              12624 non-null  object        \n",
      " 3   matchup           12624 non-null  object        \n",
      " 4   forecastdate      12624 non-null  datetime64[ns]\n",
      " 5   state             12624 non-null  object        \n",
      " 6   startdate         12624 non-null  object        \n",
      " 7   enddate           12624 non-null  object        \n",
      " 8   pollster          12624 non-null  object        \n",
      " 9   grade             11337 non-null  object        \n",
      " 10  samplesize        12621 non-null  float64       \n",
      " 11  population        12624 non-null  object        \n",
      " 12  poll_wt           12624 non-null  float64       \n",
      " 13  rawpoll_clinton   12624 non-null  float64       \n",
      " 14  rawpoll_trump     12624 non-null  float64       \n",
      " 15  rawpoll_johnson   8397 non-null   float64       \n",
      " 16  rawpoll_mcmullin  90 non-null     float64       \n",
      " 17  adjpoll_clinton   12624 non-null  float64       \n",
      " 18  adjpoll_trump     12624 non-null  float64       \n",
      " 19  adjpoll_johnson   8397 non-null   float64       \n",
      " 20  adjpoll_mcmullin  90 non-null     float64       \n",
      " 21  multiversions     36 non-null     object        \n",
      " 22  url               12621 non-null  object        \n",
      " 23  poll_id           12624 non-null  int64         \n",
      " 24  question_id       12624 non-null  int64         \n",
      " 25  createddate       12624 non-null  object        \n",
      " 26  timestamp         12624 non-null  object        \n",
      "dtypes: datetime64[ns](1), float64(10), int64(3), object(13)\n",
      "memory usage: 2.6+ MB\n"
     ]
    }
   ],
   "source": [
    "polls.info()"
   ]
  },
  {
   "cell_type": "code",
   "execution_count": null,
   "metadata": {},
   "outputs": [],
   "source": [
    "polls.columns"
   ]
  },
  {
   "cell_type": "code",
   "execution_count": null,
   "metadata": {},
   "outputs": [],
   "source": [
    "polls.tail()"
   ]
  },
  {
   "cell_type": "markdown",
   "metadata": {},
   "source": [
    "## Sort the data"
   ]
  },
  {
   "cell_type": "code",
   "execution_count": null,
   "metadata": {},
   "outputs": [],
   "source": [
    "polls.sort_values('enddate', ascending=False, inplace=True)\n",
    "polls.head()"
   ]
  },
  {
   "cell_type": "markdown",
   "metadata": {},
   "source": [
    "## Use lists, slices, tuples, and dictionary objects"
   ]
  },
  {
   "cell_type": "markdown",
   "metadata": {},
   "source": [
    "### A list"
   ]
  },
  {
   "cell_type": "code",
   "execution_count": null,
   "metadata": {},
   "outputs": [],
   "source": [
    "polls.drop?"
   ]
  },
  {
   "cell_type": "code",
   "execution_count": null,
   "metadata": {},
   "outputs": [],
   "source": [
    "# columns=['cycle','branch','matchup','forecastdate'], inplace=True\n",
    "dict_input = {\"columns\":['cycle','branch','matchup','forecastdate'], \"inplace\":True}\n",
    "polls.drop(**dict_input)\n",
    "polls.head(2)"
   ]
  },
  {
   "cell_type": "markdown",
   "metadata": {},
   "source": [
    "### A dictionary, ranges and comprehension"
   ]
  },
  {
   "cell_type": "code",
   "execution_count": null,
   "metadata": {},
   "outputs": [],
   "source": [
    "polls = polls.rename(columns={'adjpoll_clinton':'Clinton',\n",
    "                      'adjpoll_trump':'Trump'})\n",
    "polls.info()                      "
   ]
  },
  {
   "cell_type": "code",
   "execution_count": null,
   "metadata": {},
   "outputs": [],
   "source": [
    "len(polls)"
   ]
  },
  {
   "cell_type": "code",
   "execution_count": null,
   "metadata": {},
   "outputs": [],
   "source": [
    "num = [f for f in range(0,12624)]\n",
    "num\n"
   ]
  },
  {
   "cell_type": "code",
   "execution_count": null,
   "metadata": {},
   "outputs": [],
   "source": [
    "num[0:100]"
   ]
  },
  {
   "cell_type": "markdown",
   "metadata": {},
   "source": [
    "### Two slices"
   ]
  },
  {
   "cell_type": "code",
   "execution_count": null,
   "metadata": {},
   "outputs": [],
   "source": [
    "foo = polls.loc[0:100:10,'state':'grade'].index\n",
    "foo"
   ]
  },
  {
   "cell_type": "code",
   "execution_count": null,
   "metadata": {},
   "outputs": [],
   "source": [
    "\",\".join([str(f) for f in foo])"
   ]
  },
  {
   "cell_type": "code",
   "execution_count": null,
   "metadata": {},
   "outputs": [],
   "source": []
  }
 ],
 "metadata": {
  "interpreter": {
   "hash": "81794d4967e6c3204c66dcd87b604927b115b27c00565d3d43f05ba2f3a2cb0d"
  },
  "kernelspec": {
   "display_name": "Python 3.9.5 64-bit",
   "language": "python",
   "name": "python3"
  },
  "language_info": {
   "codemirror_mode": {
    "name": "ipython",
    "version": 3
   },
   "file_extension": ".py",
   "mimetype": "text/x-python",
   "name": "python",
   "nbconvert_exporter": "python",
   "pygments_lexer": "ipython3",
   "version": "3.9.5"
  }
 },
 "nbformat": 4,
 "nbformat_minor": 4
}
