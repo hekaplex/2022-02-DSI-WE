{
 "cells": [
  {
   "cell_type": "markdown",
   "metadata": {},
   "source": [
    "Python Analysis and Feature Engineering\n",
    "=======\n",
    "\n",
    "\n",
    "This lab will introduce to practical code for two concepts\n",
    "\n",
    "1. SQL style querying in Pandas \n",
    "1. SQL style data shaping in Pandas\n",
    "\n",
    "\n",
    "\n"
   ]
  },
  {
   "cell_type": "markdown",
   "metadata": {},
   "source": [
    "**Notebook Setup**"
   ]
  },
  {
   "cell_type": "code",
   "execution_count": 2,
   "metadata": {},
   "outputs": [],
   "source": [
    "import numpy as np\n",
    "import pandas as pd\n",
    "from scipy import stats"
   ]
  },
  {
   "cell_type": "code",
   "execution_count": 3,
   "metadata": {
    "scrolled": true
   },
   "outputs": [
    {
     "name": "stdout",
     "output_type": "stream",
     "text": [
      "<class 'pandas.core.frame.DataFrame'>\n",
      "RangeIndex: 5332 entries, 0 to 5331\n",
      "Data columns (total 8 columns):\n",
      " #   Column         Non-Null Count  Dtype  \n",
      "---  ------         --------------  -----  \n",
      " 0   Row_ID         5332 non-null   int64  \n",
      " 1   Calendar_Year  5332 non-null   int64  \n",
      " 2   Model_Year     5332 non-null   int64  \n",
      " 3   NVVar1         5332 non-null   float64\n",
      " 4   NVVar2         5332 non-null   float64\n",
      " 5   NVVar3         5332 non-null   float64\n",
      " 6   NVVar4         5332 non-null   float64\n",
      " 7   HasLoss        5332 non-null   int64  \n",
      "dtypes: float64(4), int64(4)\n",
      "memory usage: 333.4 KB\n"
     ]
    }
   ],
   "source": [
    "df = pd.read_csv('labtrain1.csv')\n",
    "df.info()"
   ]
  },
  {
   "cell_type": "code",
   "execution_count": 4,
   "metadata": {},
   "outputs": [
    {
     "data": {
      "text/html": [
       "<div>\n",
       "<style scoped>\n",
       "    .dataframe tbody tr th:only-of-type {\n",
       "        vertical-align: middle;\n",
       "    }\n",
       "\n",
       "    .dataframe tbody tr th {\n",
       "        vertical-align: top;\n",
       "    }\n",
       "\n",
       "    .dataframe thead th {\n",
       "        text-align: right;\n",
       "    }\n",
       "</style>\n",
       "<table border=\"1\" class=\"dataframe\">\n",
       "  <thead>\n",
       "    <tr style=\"text-align: right;\">\n",
       "      <th></th>\n",
       "      <th>Row_ID</th>\n",
       "      <th>Calendar_Year</th>\n",
       "      <th>Model_Year</th>\n",
       "      <th>NVVar1</th>\n",
       "      <th>NVVar2</th>\n",
       "      <th>NVVar3</th>\n",
       "      <th>NVVar4</th>\n",
       "      <th>HasLoss</th>\n",
       "    </tr>\n",
       "  </thead>\n",
       "  <tbody>\n",
       "    <tr>\n",
       "      <th>count</th>\n",
       "      <td>5.332000e+03</td>\n",
       "      <td>5332.000000</td>\n",
       "      <td>5332.000000</td>\n",
       "      <td>5332.000000</td>\n",
       "      <td>5332.000000</td>\n",
       "      <td>5332.000000</td>\n",
       "      <td>5332.000000</td>\n",
       "      <td>5332.000000</td>\n",
       "    </tr>\n",
       "    <tr>\n",
       "      <th>mean</th>\n",
       "      <td>6.487360e+06</td>\n",
       "      <td>2006.052701</td>\n",
       "      <td>1999.383346</td>\n",
       "      <td>0.044210</td>\n",
       "      <td>0.078245</td>\n",
       "      <td>0.079615</td>\n",
       "      <td>0.055697</td>\n",
       "      <td>0.502251</td>\n",
       "    </tr>\n",
       "    <tr>\n",
       "      <th>std</th>\n",
       "      <td>3.825032e+06</td>\n",
       "      <td>0.815829</td>\n",
       "      <td>4.932872</td>\n",
       "      <td>1.098786</td>\n",
       "      <td>1.131062</td>\n",
       "      <td>1.128958</td>\n",
       "      <td>1.103533</td>\n",
       "      <td>0.500042</td>\n",
       "    </tr>\n",
       "    <tr>\n",
       "      <th>min</th>\n",
       "      <td>1.573000e+03</td>\n",
       "      <td>2005.000000</td>\n",
       "      <td>1981.000000</td>\n",
       "      <td>-0.231530</td>\n",
       "      <td>-0.266117</td>\n",
       "      <td>-0.272337</td>\n",
       "      <td>-0.251419</td>\n",
       "      <td>0.000000</td>\n",
       "    </tr>\n",
       "    <tr>\n",
       "      <th>25%</th>\n",
       "      <td>3.229406e+06</td>\n",
       "      <td>2005.000000</td>\n",
       "      <td>1996.000000</td>\n",
       "      <td>-0.231530</td>\n",
       "      <td>-0.266117</td>\n",
       "      <td>-0.272337</td>\n",
       "      <td>-0.251419</td>\n",
       "      <td>0.000000</td>\n",
       "    </tr>\n",
       "    <tr>\n",
       "      <th>50%</th>\n",
       "      <td>6.380048e+06</td>\n",
       "      <td>2006.000000</td>\n",
       "      <td>2000.000000</td>\n",
       "      <td>-0.231530</td>\n",
       "      <td>-0.266117</td>\n",
       "      <td>-0.272337</td>\n",
       "      <td>-0.251419</td>\n",
       "      <td>1.000000</td>\n",
       "    </tr>\n",
       "    <tr>\n",
       "      <th>75%</th>\n",
       "      <td>9.802822e+06</td>\n",
       "      <td>2007.000000</td>\n",
       "      <td>2003.000000</td>\n",
       "      <td>-0.231530</td>\n",
       "      <td>-0.266117</td>\n",
       "      <td>-0.272337</td>\n",
       "      <td>-0.251419</td>\n",
       "      <td>1.000000</td>\n",
       "    </tr>\n",
       "    <tr>\n",
       "      <th>max</th>\n",
       "      <td>1.318136e+07</td>\n",
       "      <td>2007.000000</td>\n",
       "      <td>2008.000000</td>\n",
       "      <td>6.627110</td>\n",
       "      <td>8.883081</td>\n",
       "      <td>8.691144</td>\n",
       "      <td>6.388802</td>\n",
       "      <td>1.000000</td>\n",
       "    </tr>\n",
       "  </tbody>\n",
       "</table>\n",
       "</div>"
      ],
      "text/plain": [
       "             Row_ID  Calendar_Year   Model_Year       NVVar1       NVVar2  \\\n",
       "count  5.332000e+03    5332.000000  5332.000000  5332.000000  5332.000000   \n",
       "mean   6.487360e+06    2006.052701  1999.383346     0.044210     0.078245   \n",
       "std    3.825032e+06       0.815829     4.932872     1.098786     1.131062   \n",
       "min    1.573000e+03    2005.000000  1981.000000    -0.231530    -0.266117   \n",
       "25%    3.229406e+06    2005.000000  1996.000000    -0.231530    -0.266117   \n",
       "50%    6.380048e+06    2006.000000  2000.000000    -0.231530    -0.266117   \n",
       "75%    9.802822e+06    2007.000000  2003.000000    -0.231530    -0.266117   \n",
       "max    1.318136e+07    2007.000000  2008.000000     6.627110     8.883081   \n",
       "\n",
       "            NVVar3       NVVar4      HasLoss  \n",
       "count  5332.000000  5332.000000  5332.000000  \n",
       "mean      0.079615     0.055697     0.502251  \n",
       "std       1.128958     1.103533     0.500042  \n",
       "min      -0.272337    -0.251419     0.000000  \n",
       "25%      -0.272337    -0.251419     0.000000  \n",
       "50%      -0.272337    -0.251419     1.000000  \n",
       "75%      -0.272337    -0.251419     1.000000  \n",
       "max       8.691144     6.388802     1.000000  "
      ]
     },
     "execution_count": 4,
     "metadata": {},
     "output_type": "execute_result"
    }
   ],
   "source": [
    "df.describe()"
   ]
  },
  {
   "cell_type": "markdown",
   "metadata": {},
   "source": [
    "**Data Setup**"
   ]
  },
  {
   "cell_type": "markdown",
   "metadata": {},
   "source": [
    "SQL style querying in Pandas\n",
    "----\n",
    "1. SELECT or Vertical filters\n",
    "1. WHERE or Horizontal filters\n",
    "1. ORDER BY or Sort\n",
    "1. TOP NN/ LIMIT NN\n",
    "1. GROUP BY and aggregate samples\n",
    "1. HAVING or filtered aggregation"
   ]
  },
  {
   "cell_type": "markdown",
   "metadata": {},
   "source": [
    "**SELECT**"
   ]
  },
  {
   "cell_type": "code",
   "execution_count": 5,
   "metadata": {},
   "outputs": [
    {
     "data": {
      "text/html": [
       "<div>\n",
       "<style scoped>\n",
       "    .dataframe tbody tr th:only-of-type {\n",
       "        vertical-align: middle;\n",
       "    }\n",
       "\n",
       "    .dataframe tbody tr th {\n",
       "        vertical-align: top;\n",
       "    }\n",
       "\n",
       "    .dataframe thead th {\n",
       "        text-align: right;\n",
       "    }\n",
       "</style>\n",
       "<table border=\"1\" class=\"dataframe\">\n",
       "  <thead>\n",
       "    <tr style=\"text-align: right;\">\n",
       "      <th></th>\n",
       "      <th>Calendar_Year</th>\n",
       "      <th>NVVar2</th>\n",
       "    </tr>\n",
       "  </thead>\n",
       "  <tbody>\n",
       "    <tr>\n",
       "      <th>0</th>\n",
       "      <td>2006</td>\n",
       "      <td>-0.266117</td>\n",
       "    </tr>\n",
       "    <tr>\n",
       "      <th>1</th>\n",
       "      <td>2005</td>\n",
       "      <td>-0.266117</td>\n",
       "    </tr>\n",
       "    <tr>\n",
       "      <th>2</th>\n",
       "      <td>2006</td>\n",
       "      <td>-0.266117</td>\n",
       "    </tr>\n",
       "    <tr>\n",
       "      <th>3</th>\n",
       "      <td>2005</td>\n",
       "      <td>-0.266117</td>\n",
       "    </tr>\n",
       "    <tr>\n",
       "      <th>4</th>\n",
       "      <td>2007</td>\n",
       "      <td>-0.266117</td>\n",
       "    </tr>\n",
       "    <tr>\n",
       "      <th>...</th>\n",
       "      <td>...</td>\n",
       "      <td>...</td>\n",
       "    </tr>\n",
       "    <tr>\n",
       "      <th>5327</th>\n",
       "      <td>2007</td>\n",
       "      <td>-0.266117</td>\n",
       "    </tr>\n",
       "    <tr>\n",
       "      <th>5328</th>\n",
       "      <td>2007</td>\n",
       "      <td>-0.266117</td>\n",
       "    </tr>\n",
       "    <tr>\n",
       "      <th>5329</th>\n",
       "      <td>2007</td>\n",
       "      <td>-0.266117</td>\n",
       "    </tr>\n",
       "    <tr>\n",
       "      <th>5330</th>\n",
       "      <td>2005</td>\n",
       "      <td>-0.266117</td>\n",
       "    </tr>\n",
       "    <tr>\n",
       "      <th>5331</th>\n",
       "      <td>2007</td>\n",
       "      <td>-0.266117</td>\n",
       "    </tr>\n",
       "  </tbody>\n",
       "</table>\n",
       "<p>5332 rows × 2 columns</p>\n",
       "</div>"
      ],
      "text/plain": [
       "      Calendar_Year    NVVar2\n",
       "0              2006 -0.266117\n",
       "1              2005 -0.266117\n",
       "2              2006 -0.266117\n",
       "3              2005 -0.266117\n",
       "4              2007 -0.266117\n",
       "...             ...       ...\n",
       "5327           2007 -0.266117\n",
       "5328           2007 -0.266117\n",
       "5329           2007 -0.266117\n",
       "5330           2005 -0.266117\n",
       "5331           2007 -0.266117\n",
       "\n",
       "[5332 rows x 2 columns]"
      ]
     },
     "execution_count": 5,
     "metadata": {},
     "output_type": "execute_result"
    }
   ],
   "source": [
    "#SELECT Calendar_Year,NVVar1 from df\n",
    "#by label\n",
    "#select_df1 = df[: ,[\"Calendar_Year\",\"NVVar2\"]]\n",
    "select_df1 = df[[\"Calendar_Year\",\"NVVar2\"]]\n",
    "select_df1"
   ]
  },
  {
   "cell_type": "code",
   "execution_count": 8,
   "metadata": {},
   "outputs": [],
   "source": [
    "collist = \",\".join(list(select_df1.columns)).replace(\",\",\"\\\",\\\"\")"
   ]
  },
  {
   "cell_type": "code",
   "execution_count": 9,
   "metadata": {},
   "outputs": [
    {
     "data": {
      "text/plain": [
       "'Calendar_Year\",\"NVVar2'"
      ]
     },
     "execution_count": 9,
     "metadata": {},
     "output_type": "execute_result"
    }
   ],
   "source": [
    "collist"
   ]
  },
  {
   "cell_type": "code",
   "execution_count": 10,
   "metadata": {},
   "outputs": [
    {
     "data": {
      "text/html": [
       "<div>\n",
       "<style scoped>\n",
       "    .dataframe tbody tr th:only-of-type {\n",
       "        vertical-align: middle;\n",
       "    }\n",
       "\n",
       "    .dataframe tbody tr th {\n",
       "        vertical-align: top;\n",
       "    }\n",
       "\n",
       "    .dataframe thead th {\n",
       "        text-align: right;\n",
       "    }\n",
       "</style>\n",
       "<table border=\"1\" class=\"dataframe\">\n",
       "  <thead>\n",
       "    <tr style=\"text-align: right;\">\n",
       "      <th></th>\n",
       "      <th>Row_ID</th>\n",
       "      <th>Calendar_Year</th>\n",
       "      <th>Model_Year</th>\n",
       "      <th>NVVar1</th>\n",
       "    </tr>\n",
       "  </thead>\n",
       "  <tbody>\n",
       "    <tr>\n",
       "      <th>1</th>\n",
       "      <td>5872967</td>\n",
       "      <td>2005</td>\n",
       "      <td>2004</td>\n",
       "      <td>-0.23153</td>\n",
       "    </tr>\n",
       "    <tr>\n",
       "      <th>3</th>\n",
       "      <td>6453577</td>\n",
       "      <td>2005</td>\n",
       "      <td>2003</td>\n",
       "      <td>-0.23153</td>\n",
       "    </tr>\n",
       "    <tr>\n",
       "      <th>11</th>\n",
       "      <td>12497044</td>\n",
       "      <td>2005</td>\n",
       "      <td>2001</td>\n",
       "      <td>-0.23153</td>\n",
       "    </tr>\n",
       "    <tr>\n",
       "      <th>14</th>\n",
       "      <td>11041919</td>\n",
       "      <td>2005</td>\n",
       "      <td>1999</td>\n",
       "      <td>-0.23153</td>\n",
       "    </tr>\n",
       "    <tr>\n",
       "      <th>16</th>\n",
       "      <td>4563653</td>\n",
       "      <td>2005</td>\n",
       "      <td>1994</td>\n",
       "      <td>-0.23153</td>\n",
       "    </tr>\n",
       "    <tr>\n",
       "      <th>...</th>\n",
       "      <td>...</td>\n",
       "      <td>...</td>\n",
       "      <td>...</td>\n",
       "      <td>...</td>\n",
       "    </tr>\n",
       "    <tr>\n",
       "      <th>5308</th>\n",
       "      <td>10920487</td>\n",
       "      <td>2005</td>\n",
       "      <td>1992</td>\n",
       "      <td>3.19779</td>\n",
       "    </tr>\n",
       "    <tr>\n",
       "      <th>5310</th>\n",
       "      <td>9465743</td>\n",
       "      <td>2005</td>\n",
       "      <td>1998</td>\n",
       "      <td>-0.23153</td>\n",
       "    </tr>\n",
       "    <tr>\n",
       "      <th>5316</th>\n",
       "      <td>9772077</td>\n",
       "      <td>2005</td>\n",
       "      <td>2000</td>\n",
       "      <td>-0.23153</td>\n",
       "    </tr>\n",
       "    <tr>\n",
       "      <th>5323</th>\n",
       "      <td>1115074</td>\n",
       "      <td>2005</td>\n",
       "      <td>1994</td>\n",
       "      <td>-0.23153</td>\n",
       "    </tr>\n",
       "    <tr>\n",
       "      <th>5330</th>\n",
       "      <td>5030537</td>\n",
       "      <td>2005</td>\n",
       "      <td>1998</td>\n",
       "      <td>-0.23153</td>\n",
       "    </tr>\n",
       "  </tbody>\n",
       "</table>\n",
       "<p>1641 rows × 4 columns</p>\n",
       "</div>"
      ],
      "text/plain": [
       "        Row_ID  Calendar_Year  Model_Year   NVVar1\n",
       "1      5872967           2005        2004 -0.23153\n",
       "3      6453577           2005        2003 -0.23153\n",
       "11    12497044           2005        2001 -0.23153\n",
       "14    11041919           2005        1999 -0.23153\n",
       "16     4563653           2005        1994 -0.23153\n",
       "...        ...            ...         ...      ...\n",
       "5308  10920487           2005        1992  3.19779\n",
       "5310   9465743           2005        1998 -0.23153\n",
       "5316   9772077           2005        2000 -0.23153\n",
       "5323   1115074           2005        1994 -0.23153\n",
       "5330   5030537           2005        1998 -0.23153\n",
       "\n",
       "[1641 rows x 4 columns]"
      ]
     },
     "execution_count": 10,
     "metadata": {},
     "output_type": "execute_result"
    }
   ],
   "source": [
    "#SELECT ROW_ID, Calendar_Year, MOdel_year, NVVar1 from df WHERE Calendar_Year = 2006\n",
    "# by position\n",
    "select_df2 = df[df.Calendar_Year == 2005].iloc[:,[0,1,2,3]]\n",
    "select_df2"
   ]
  },
  {
   "cell_type": "code",
   "execution_count": 16,
   "metadata": {},
   "outputs": [],
   "source": [
    "col_len = len(select_df2.columns)"
   ]
  },
  {
   "cell_type": "code",
   "execution_count": 17,
   "metadata": {},
   "outputs": [],
   "source": [
    "#SELECT COUNT(*) FROM select_df2\n",
    "row_len = len(select_df2)"
   ]
  },
  {
   "cell_type": "code",
   "execution_count": 18,
   "metadata": {},
   "outputs": [
    {
     "data": {
      "text/plain": [
       "6564"
      ]
     },
     "execution_count": 18,
     "metadata": {},
     "output_type": "execute_result"
    }
   ],
   "source": [
    "row_len * col_len"
   ]
  },
  {
   "cell_type": "code",
   "execution_count": 12,
   "metadata": {},
   "outputs": [
    {
     "data": {
      "text/plain": [
       "1641"
      ]
     },
     "execution_count": 12,
     "metadata": {},
     "output_type": "execute_result"
    }
   ],
   "source": [
    "#SELECT COUNT(*) FROM df  WHERE Calendar_Year = 2005\n",
    "len(df[df.Calendar_Year == 2005])"
   ]
  },
  {
   "cell_type": "code",
   "execution_count": 19,
   "metadata": {},
   "outputs": [
    {
     "name": "stdout",
     "output_type": "stream",
     "text": [
      "int64\n",
      "int64\n",
      "int64\n",
      "float64\n"
     ]
    }
   ],
   "source": [
    "for dt in select_df2.dtypes: print(dt)"
   ]
  },
  {
   "cell_type": "code",
   "execution_count": 20,
   "metadata": {},
   "outputs": [
    {
     "data": {
      "text/html": [
       "<div>\n",
       "<style scoped>\n",
       "    .dataframe tbody tr th:only-of-type {\n",
       "        vertical-align: middle;\n",
       "    }\n",
       "\n",
       "    .dataframe tbody tr th {\n",
       "        vertical-align: top;\n",
       "    }\n",
       "\n",
       "    .dataframe thead th {\n",
       "        text-align: right;\n",
       "    }\n",
       "</style>\n",
       "<table border=\"1\" class=\"dataframe\">\n",
       "  <thead>\n",
       "    <tr style=\"text-align: right;\">\n",
       "      <th></th>\n",
       "      <th>count</th>\n",
       "      <th>mean</th>\n",
       "      <th>std</th>\n",
       "      <th>min</th>\n",
       "      <th>25%</th>\n",
       "      <th>50%</th>\n",
       "      <th>75%</th>\n",
       "      <th>max</th>\n",
       "    </tr>\n",
       "  </thead>\n",
       "  <tbody>\n",
       "    <tr>\n",
       "      <th>Row_ID</th>\n",
       "      <td>5332.0</td>\n",
       "      <td>6.487360e+06</td>\n",
       "      <td>3.825032e+06</td>\n",
       "      <td>1573.0</td>\n",
       "      <td>3229406.5</td>\n",
       "      <td>6380048.0</td>\n",
       "      <td>9802822.0</td>\n",
       "      <td>13181365.0</td>\n",
       "    </tr>\n",
       "    <tr>\n",
       "      <th>Calendar_Year</th>\n",
       "      <td>5332.0</td>\n",
       "      <td>2.006053e+03</td>\n",
       "      <td>8.158290e-01</td>\n",
       "      <td>2005.0</td>\n",
       "      <td>2005.0</td>\n",
       "      <td>2006.0</td>\n",
       "      <td>2007.0</td>\n",
       "      <td>2007.0</td>\n",
       "    </tr>\n",
       "    <tr>\n",
       "      <th>Model_Year</th>\n",
       "      <td>5332.0</td>\n",
       "      <td>1.999383e+03</td>\n",
       "      <td>4.932872e+00</td>\n",
       "      <td>1981.0</td>\n",
       "      <td>1996.0</td>\n",
       "      <td>2000.0</td>\n",
       "      <td>2003.0</td>\n",
       "      <td>2008.0</td>\n",
       "    </tr>\n",
       "    <tr>\n",
       "      <th>HasLoss</th>\n",
       "      <td>5332.0</td>\n",
       "      <td>5.022506e-01</td>\n",
       "      <td>5.000418e-01</td>\n",
       "      <td>0.0</td>\n",
       "      <td>0.0</td>\n",
       "      <td>1.0</td>\n",
       "      <td>1.0</td>\n",
       "      <td>1.0</td>\n",
       "    </tr>\n",
       "  </tbody>\n",
       "</table>\n",
       "</div>"
      ],
      "text/plain": [
       "                count          mean           std     min        25%  \\\n",
       "Row_ID         5332.0  6.487360e+06  3.825032e+06  1573.0  3229406.5   \n",
       "Calendar_Year  5332.0  2.006053e+03  8.158290e-01  2005.0     2005.0   \n",
       "Model_Year     5332.0  1.999383e+03  4.932872e+00  1981.0     1996.0   \n",
       "HasLoss        5332.0  5.022506e-01  5.000418e-01     0.0        0.0   \n",
       "\n",
       "                     50%        75%         max  \n",
       "Row_ID         6380048.0  9802822.0  13181365.0  \n",
       "Calendar_Year     2006.0     2007.0      2007.0  \n",
       "Model_Year        2000.0     2003.0      2008.0  \n",
       "HasLoss              1.0        1.0         1.0  "
      ]
     },
     "execution_count": 20,
     "metadata": {},
     "output_type": "execute_result"
    }
   ],
   "source": [
    "#select only numerics\n",
    "#numerics = ['int16', 'int32', 'int64', 'float16', 'float32', 'float64']\n",
    "numerics = [ 'int64']\n",
    "#df_numeric = df.select_dtypes(include=numerics) \n",
    "df.describe(include=numerics).T"
   ]
  },
  {
   "cell_type": "code",
   "execution_count": 21,
   "metadata": {},
   "outputs": [
    {
     "ename": "ValueError",
     "evalue": "No objects to concatenate",
     "output_type": "error",
     "traceback": [
      "\u001b[1;31m---------------------------------------------------------------------------\u001b[0m",
      "\u001b[1;31mValueError\u001b[0m                                Traceback (most recent call last)",
      "\u001b[1;32m<ipython-input-21-6d13fbab7eb3>\u001b[0m in \u001b[0;36m<module>\u001b[1;34m\u001b[0m\n\u001b[1;32m----> 1\u001b[1;33m \u001b[0mdf\u001b[0m\u001b[1;33m.\u001b[0m\u001b[0mdescribe\u001b[0m\u001b[1;33m(\u001b[0m\u001b[0minclude\u001b[0m\u001b[1;33m=\u001b[0m\u001b[1;34m\"O\"\u001b[0m\u001b[1;33m)\u001b[0m\u001b[1;33m\u001b[0m\u001b[1;33m\u001b[0m\u001b[0m\n\u001b[0m",
      "\u001b[1;32mc:\\Python39\\lib\\site-packages\\pandas\\core\\generic.py\u001b[0m in \u001b[0;36mdescribe\u001b[1;34m(self, percentiles, include, exclude, datetime_is_numeric)\u001b[0m\n\u001b[0;32m  10408\u001b[0m                     \u001b[0mnames\u001b[0m\u001b[1;33m.\u001b[0m\u001b[0mappend\u001b[0m\u001b[1;33m(\u001b[0m\u001b[0mname\u001b[0m\u001b[1;33m)\u001b[0m\u001b[1;33m\u001b[0m\u001b[1;33m\u001b[0m\u001b[0m\n\u001b[0;32m  10409\u001b[0m \u001b[1;33m\u001b[0m\u001b[0m\n\u001b[1;32m> 10410\u001b[1;33m         \u001b[0md\u001b[0m \u001b[1;33m=\u001b[0m \u001b[0mpd\u001b[0m\u001b[1;33m.\u001b[0m\u001b[0mconcat\u001b[0m\u001b[1;33m(\u001b[0m\u001b[1;33m[\u001b[0m\u001b[0mx\u001b[0m\u001b[1;33m.\u001b[0m\u001b[0mreindex\u001b[0m\u001b[1;33m(\u001b[0m\u001b[0mnames\u001b[0m\u001b[1;33m,\u001b[0m \u001b[0mcopy\u001b[0m\u001b[1;33m=\u001b[0m\u001b[1;32mFalse\u001b[0m\u001b[1;33m)\u001b[0m \u001b[1;32mfor\u001b[0m \u001b[0mx\u001b[0m \u001b[1;32min\u001b[0m \u001b[0mldesc\u001b[0m\u001b[1;33m]\u001b[0m\u001b[1;33m,\u001b[0m \u001b[0maxis\u001b[0m\u001b[1;33m=\u001b[0m\u001b[1;36m1\u001b[0m\u001b[1;33m,\u001b[0m \u001b[0msort\u001b[0m\u001b[1;33m=\u001b[0m\u001b[1;32mFalse\u001b[0m\u001b[1;33m)\u001b[0m\u001b[1;33m\u001b[0m\u001b[1;33m\u001b[0m\u001b[0m\n\u001b[0m\u001b[0;32m  10411\u001b[0m         \u001b[0md\u001b[0m\u001b[1;33m.\u001b[0m\u001b[0mcolumns\u001b[0m \u001b[1;33m=\u001b[0m \u001b[0mdata\u001b[0m\u001b[1;33m.\u001b[0m\u001b[0mcolumns\u001b[0m\u001b[1;33m.\u001b[0m\u001b[0mcopy\u001b[0m\u001b[1;33m(\u001b[0m\u001b[1;33m)\u001b[0m\u001b[1;33m\u001b[0m\u001b[1;33m\u001b[0m\u001b[0m\n\u001b[0;32m  10412\u001b[0m         \u001b[1;32mreturn\u001b[0m \u001b[0md\u001b[0m\u001b[1;33m\u001b[0m\u001b[1;33m\u001b[0m\u001b[0m\n",
      "\u001b[1;32mc:\\Python39\\lib\\site-packages\\pandas\\core\\reshape\\concat.py\u001b[0m in \u001b[0;36mconcat\u001b[1;34m(objs, axis, join, ignore_index, keys, levels, names, verify_integrity, sort, copy)\u001b[0m\n\u001b[0;32m    283\u001b[0m     \u001b[0mValueError\u001b[0m\u001b[1;33m:\u001b[0m \u001b[0mIndexes\u001b[0m \u001b[0mhave\u001b[0m \u001b[0moverlapping\u001b[0m \u001b[0mvalues\u001b[0m\u001b[1;33m:\u001b[0m \u001b[1;33m[\u001b[0m\u001b[1;34m'a'\u001b[0m\u001b[1;33m]\u001b[0m\u001b[1;33m\u001b[0m\u001b[1;33m\u001b[0m\u001b[0m\n\u001b[0;32m    284\u001b[0m     \"\"\"\n\u001b[1;32m--> 285\u001b[1;33m     op = _Concatenator(\n\u001b[0m\u001b[0;32m    286\u001b[0m         \u001b[0mobjs\u001b[0m\u001b[1;33m,\u001b[0m\u001b[1;33m\u001b[0m\u001b[1;33m\u001b[0m\u001b[0m\n\u001b[0;32m    287\u001b[0m         \u001b[0maxis\u001b[0m\u001b[1;33m=\u001b[0m\u001b[0maxis\u001b[0m\u001b[1;33m,\u001b[0m\u001b[1;33m\u001b[0m\u001b[1;33m\u001b[0m\u001b[0m\n",
      "\u001b[1;32mc:\\Python39\\lib\\site-packages\\pandas\\core\\reshape\\concat.py\u001b[0m in \u001b[0;36m__init__\u001b[1;34m(self, objs, axis, join, keys, levels, names, ignore_index, verify_integrity, copy, sort)\u001b[0m\n\u001b[0;32m    340\u001b[0m \u001b[1;33m\u001b[0m\u001b[0m\n\u001b[0;32m    341\u001b[0m         \u001b[1;32mif\u001b[0m \u001b[0mlen\u001b[0m\u001b[1;33m(\u001b[0m\u001b[0mobjs\u001b[0m\u001b[1;33m)\u001b[0m \u001b[1;33m==\u001b[0m \u001b[1;36m0\u001b[0m\u001b[1;33m:\u001b[0m\u001b[1;33m\u001b[0m\u001b[1;33m\u001b[0m\u001b[0m\n\u001b[1;32m--> 342\u001b[1;33m             \u001b[1;32mraise\u001b[0m \u001b[0mValueError\u001b[0m\u001b[1;33m(\u001b[0m\u001b[1;34m\"No objects to concatenate\"\u001b[0m\u001b[1;33m)\u001b[0m\u001b[1;33m\u001b[0m\u001b[1;33m\u001b[0m\u001b[0m\n\u001b[0m\u001b[0;32m    343\u001b[0m \u001b[1;33m\u001b[0m\u001b[0m\n\u001b[0;32m    344\u001b[0m         \u001b[1;32mif\u001b[0m \u001b[0mkeys\u001b[0m \u001b[1;32mis\u001b[0m \u001b[1;32mNone\u001b[0m\u001b[1;33m:\u001b[0m\u001b[1;33m\u001b[0m\u001b[1;33m\u001b[0m\u001b[0m\n",
      "\u001b[1;31mValueError\u001b[0m: No objects to concatenate"
     ]
    }
   ],
   "source": [
    "#descriptive stats for strings\n",
    "df.describe(include=\"O\")"
   ]
  },
  {
   "cell_type": "markdown",
   "metadata": {},
   "source": [
    "**ORDER BY**"
   ]
  },
  {
   "cell_type": "code",
   "execution_count": null,
   "metadata": {},
   "outputs": [],
   "source": [
    "#SELECT \n",
    "#     Calendar_Year,NVVar1 \n",
    "#FROM\n",
    "#     df \n",
    "#ORDER BY Calendar_Year ASC\n",
    "select_df1.sort_values('Calendar_Year')"
   ]
  },
  {
   "cell_type": "code",
   "execution_count": null,
   "metadata": {},
   "outputs": [],
   "source": [
    "#SELECT \n",
    "#     Calendar_Year,NVVar1 \n",
    "\n",
    "#FROM\n",
    "#     df \n",
    "#ORDER BY Calendar_Year DESC\n",
    "select_df1.sort_values('Calendar_Year',ascending=False)"
   ]
  },
  {
   "cell_type": "markdown",
   "metadata": {},
   "source": [
    "**TOP / LIMIT**"
   ]
  },
  {
   "cell_type": "code",
   "execution_count": null,
   "metadata": {},
   "outputs": [],
   "source": [
    "#SELECT TOP 50 \n",
    "#Calendar_Year,NVVar1 \n",
    "#FROM\n",
    "#     df \n",
    "#ORDER BY Calendar_Year DESC\n",
    "#       or\n",
    "#SELECT \n",
    "#Calendar_Year,NVVar1 \n",
    "#FROM\n",
    "#     df \n",
    "#ORDER BY Calendar_Year DESC\n",
    "#LIMIT 50\n",
    "select_df1.sort_values('Calendar_Year',ascending=False)[0:49]"
   ]
  },
  {
   "cell_type": "code",
   "execution_count": null,
   "metadata": {},
   "outputs": [],
   "source": [
    "#SELECT \n",
    "#TOP 50 PERCENT\n",
    "#Calendar_Year,NVVar1 \n",
    "#FROM\n",
    "#     df \n",
    "#ORDER BY Calendar_Year DESC\n",
    "print(\"before:\",len(select_df1))\n",
    "#select_df1_after = select_df1.sort_values('Calendar_Year',ascending=False).head(int(df.shape[0]*.5))\n",
    "select_df1_after = \\\n",
    "    select_df1.sort_values('Calendar_Year',ascending=False) \\\n",
    "    .head(int(len(select_df1)*.5))\n",
    "print(\"after:\",len(select_df1_after))"
   ]
  },
  {
   "cell_type": "code",
   "execution_count": null,
   "metadata": {},
   "outputs": [],
   "source": [
    "# WITH\n",
    "#     foo as\n",
    "#     (\n",
    "#         SELECT \n",
    "#              *\n",
    "#         from \n",
    "#             df\n",
    "#         ORDER By Calendar_Year\n",
    "#         LIMIT 50\n",
    "#     )\n",
    "#     SELECT \n",
    "#         Top 50% *\n",
    "#     FROM\n",
    "#         foo\n",
    "print(\"before:\",len(select_df1))\n",
    "#select_df3 =select_df1[0:49].sort_values('Calendar_Year',ascending=False)\n",
    "select_df2_after = \\\n",
    "    select_df1[0:49].sort_values(\n",
    "        'Calendar_Year',ascending=False).head( \\\n",
    "            int(select_df1[0:49].sort_values(\n",
    "                'Calendar_Year',ascending=False).shape[0]*.5))\n",
    "print(\"after:\",len(select_df2_after))"
   ]
  },
  {
   "cell_type": "markdown",
   "metadata": {},
   "source": [
    "**GROUP BY**"
   ]
  },
  {
   "cell_type": "code",
   "execution_count": null,
   "metadata": {
    "scrolled": true
   },
   "outputs": [],
   "source": [
    "# SELECT\n",
    "#     Calendar_Year\n",
    "#     ,COUNT(NVVar1) AS 'Calendar_Year_Count'\n",
    "#     ,COUNT(DISTINCT NVVar1) AS 'Calendar_Year_Count_Distinct'\n",
    "#     ,AVG(NVVar1) AS 'Calendar_Year_Count'\n",
    "#     ,STDEVP(NVVar1) AS 'Calendar_Year_Count'\n",
    "#     ,MIN(NVVar1) AS 'Calendar_Year_Count'\n",
    "#     ,MAX(NVVar1) AS 'Calendar_Year_Count'\n",
    "# FROM\n",
    "#     df\n",
    "# GROUP BY Calendar_Year\n",
    "df_agg1 = pd.DataFrame(\n",
    "    {\n",
    "        # SELECT COUNT(NVVar1) GROUP BY Calendar_Year\n",
    "        'Calendar_Year_Count':\n",
    "            df.groupby('Calendar_Year')\n",
    "                .count()['NVVar1']\n",
    "        , \n",
    "        #SELECT COUNT(DISTINCT NVVar1) GROUP BY Calendar_Year\n",
    "        'Calendar_Year_NVVar1_Count_Distinct':\n",
    "            df.groupby('Calendar_Year')\n",
    "                ['NVVar1'].nunique()\n",
    "        ,\n",
    "        # SELECT AVERAGE(NVVar1) GROUP BY Calendar_Year\n",
    "        'Calendar_Year_NVVar1_Avg':\n",
    "            df.groupby('Calendar_Year')\n",
    "                .mean()['NVVar1']\n",
    "        , \n",
    "                # SELECT STDEV.P(NVVar1) GROUP BY Calendar_Year\n",
    "        'Calendar_Year_NVVar1_Std':\n",
    "            df.groupby('Calendar_Year')\n",
    "                .std()['NVVar1']\n",
    "        , \n",
    "                # SELECT MIN(NVVar1) GROUP BY Calendar_Year\n",
    "        'Calendar_Year_NVVar1_Min':\n",
    "            df.groupby('Calendar_Year')\n",
    "                .min()['NVVar1']        \n",
    "        , \n",
    "                # SELECT MAX(NVVar1) GROUP BY Calendar_Year\n",
    "        'Calendar_Year_NVVar1_Max':\n",
    "            df.groupby('Calendar_Year')\n",
    "                .max()['NVVar1']                \n",
    "    }\n",
    ")\n",
    "df_agg1"
   ]
  },
  {
   "cell_type": "code",
   "execution_count": null,
   "metadata": {},
   "outputs": [],
   "source": [
    "#HasLoss by ModelYear\n",
    "df_agg2 = pd.DataFrame(\n",
    "    {\n",
    "        '2005-2006 Loss Count':\n",
    "            df.loc[(df.Calendar_Year <= 2006)  ].groupby('Model_Year')\n",
    "                .sum()['HasLoss']\n",
    ",\n",
    "        '2007-2008 Loss Count':\n",
    "            df.loc[(df.Calendar_Year > 2006)  ].groupby('Model_Year')\n",
    "                .sum()['HasLoss']\n",
    "    }\n",
    ")\n",
    "df_agg2"
   ]
  },
  {
   "cell_type": "code",
   "execution_count": null,
   "metadata": {},
   "outputs": [],
   "source": [
    "dfg =df.groupby('Calendar_Year')\n",
    "type(dfg)"
   ]
  },
  {
   "cell_type": "code",
   "execution_count": null,
   "metadata": {},
   "outputs": [],
   "source": [
    "# SELECT Calendar_Year, SUM(HasLoss) GROUP BY Calendar_Year\n",
    "dfg.sum()['HasLoss']"
   ]
  },
  {
   "cell_type": "code",
   "execution_count": null,
   "metadata": {},
   "outputs": [],
   "source": [
    " # SELECT Calendar_Year, COUNT(ROW_ID)... GROUP BY Calendar_Year\n",
    " df.groupby('Calendar_Year').count()"
   ]
  },
  {
   "cell_type": "markdown",
   "metadata": {},
   "source": [
    "SQL style data shaping in Pandas\n",
    "----\n",
    "1. AS or derived column review\n",
    "1. JOIN or key based\n",
    "1. UNION or schema based\n",
    "1. Pandas operations that don't ft in SQL Box"
   ]
  },
  {
   "cell_type": "markdown",
   "metadata": {},
   "source": [
    "**AS or derived column review**"
   ]
  },
  {
   "cell_type": "code",
   "execution_count": null,
   "metadata": {},
   "outputs": [],
   "source": [
    "# WITH \n",
    "#     NVVar1_Std as\n",
    "#         (\n",
    "#             SELECT\n",
    "#                 STDEVP(NVVar1) AS NVVar1_Std\n",
    "#             FROM \n",
    "#                 df\n",
    "#         )\n",
    "#     NVVar1_Avg as\n",
    "#         (\n",
    "#             SELECT\n",
    "#                 AVG(NVVar1) AS NVVar1_Avg\n",
    "#             FROM \n",
    "#                 df\n",
    "#         )\n",
    "# SELECT\n",
    "#     Calendar_Year\n",
    "#     ,NVVar1\n",
    "#     ,\n",
    "#         (\n",
    "#             NVVar1\n",
    "#             -\n",
    "#             NVVar1_Avg.NVVar1_Avg\n",
    "#         )\n",
    "#         /\n",
    "#         NVVar1_Std.NVVar1_Std\n",
    "#     AS NVVar1_Z_Score\n",
    "# FROM\n",
    "#     df\n",
    "#     ,NVVar1_Std\n",
    "#     ,NVVar1_Avg\n",
    "df['NVVar1_ZScore'] \\\n",
    "    = (\n",
    "            df['NVVar1']  \\\n",
    "            -  \\\n",
    "            df['NVVar1'].mean() \\\n",
    "        )  \\\n",
    "            /  \\\n",
    "        df['NVVar1'].std(ddof=0)\n",
    "#alternately \n",
    "#df['NVVar1_ZScore2']= stats.zscore(df['NVVar1'], axis=1, ddof=10.to_frame()\n",
    "df[[\"Calendar_Year\",\"NVVar1\",\"NVVar1_ZScore\"]].describe()"
   ]
  },
  {
   "cell_type": "code",
   "execution_count": null,
   "metadata": {},
   "outputs": [],
   "source": [
    "from scipy import stats\n",
    "\n",
    "df[\"newz\"] = stats.zscore(df[\"NVVar1\"])\n",
    "df.describe().T"
   ]
  },
  {
   "cell_type": "code",
   "execution_count": null,
   "metadata": {},
   "outputs": [],
   "source": [
    "type(df)"
   ]
  },
  {
   "cell_type": "code",
   "execution_count": null,
   "metadata": {},
   "outputs": [],
   "source": [
    "dfg = (df['NVVar1'] - df['NVVar1'].mean() )/df['NVVar1'].std(ddof=0)\n",
    "type(dfg)"
   ]
  },
  {
   "cell_type": "markdown",
   "metadata": {},
   "source": [
    "**JOIN or key based**"
   ]
  },
  {
   "cell_type": "code",
   "execution_count": null,
   "metadata": {},
   "outputs": [],
   "source": [
    "#WITH tbl_cal AS \n",
    "# (\n",
    "#SELECT\n",
    "# <col> as '<col>',\n",
    "# sum(1) as 'count',\n",
    "# mean(<col>) as 'mean',\n",
    "# stdev(<col>) as 'std',\n",
    "# min(<col>) as 'min',\n",
    "# PERCENTILE_DISC(0.25) OVER (PARTITION BY 1 ORDER BY <col>) as '25',\n",
    "# PERCENTILE_DISC(0.50) OVER (PARTITION BY 1 ORDER BY <col>) as '50',\n",
    "# PERCENTILE_DISC(0.75) OVER (PARTITION BY 1 ORDER BY <col>) as '75',\n",
    "# max(<col>) as 'max'\n",
    "# ...\n",
    "# SELECT tbl1...\n",
    "# PIVOT...\n",
    "\n",
    "newdf = pd.read_csv('labtrain2.csv')\n",
    "newdf.describe()"
   ]
  },
  {
   "cell_type": "code",
   "execution_count": null,
   "metadata": {},
   "outputs": [],
   "source": [
    "#SELECT a.*,b.* from df a inner JOIN newdf b on a.Calendar_Year = b.NVVar1 \n",
    "#SELECT a.*,b.* from df a left JOIN newdf b on a.Calendar_Year = b.NVVar1 \n",
    "#SELECT a.*,b.* from df a right JOIN newdf b on a.Calendar_Year = b.NVVar1 \n",
    "#SELECT a.*,b.* from df a outer JOIN newdf b on a.Calendar_Year = b.NVVar1 \n",
    "innerjoin=df.join(newdf, how=\"inner\", lsuffix ='Calendar_Year', rsuffix ='NVVar1')\n",
    "leftjoin=df.join(newdf, how=\"left\", lsuffix ='Calendar_Year', rsuffix ='NVVar1')\n",
    "righjoin=df.join(newdf, how=\"right\", lsuffix ='Calendar_Year', rsuffix ='NVVar1')\n",
    "outerjoin=df.join(newdf, how=\"outer\", lsuffix ='Calendar_Year', rsuffix ='NVVar1')\n",
    "print(\"rows df: \",len(df))\n",
    "print(\"rows newdf: \",len(newdf))\n",
    "print(\"rows innerjoin: \",len(innerjoin))\n",
    "print(\"rows leftjoin: \",len(leftjoin))\n",
    "print(\"rows rightjoin: \",len(righjoin))\n",
    "print(\"rows outerjoin: \",len(outerjoin))\n",
    "outerjoin"
   ]
  },
  {
   "cell_type": "code",
   "execution_count": null,
   "metadata": {},
   "outputs": [],
   "source": [
    "df.join?"
   ]
  },
  {
   "cell_type": "markdown",
   "metadata": {},
   "source": [
    "**UNION or schema based**"
   ]
  },
  {
   "cell_type": "code",
   "execution_count": null,
   "metadata": {},
   "outputs": [],
   "source": [
    "#SELECT *,NULL AS Unnamed: 0,\tNULL AS NVVar2_ZScore, NULL AS\tNVVar3_ZScore\tNVVar4_ZScore from df\n",
    "#UNION ALL\n",
    "#SELECT * from newdf\n",
    "df_union= pd.concat([df,newdf],ignore_index=True,sort=False)\n",
    "print(\"rows df_union: \",len(df_union))\n",
    "df_union"
   ]
  },
  {
   "cell_type": "code",
   "execution_count": null,
   "metadata": {},
   "outputs": [],
   "source": [
    "df_union.info()"
   ]
  },
  {
   "cell_type": "markdown",
   "metadata": {},
   "source": [
    "**Pandas operations that don't fit in SQL Box**"
   ]
  },
  {
   "cell_type": "code",
   "execution_count": null,
   "metadata": {},
   "outputs": [],
   "source": [
    "#Where SQL ends and Python begins :)\n",
    "df.info()\n",
    "df.groupby(\n",
    "    ['Calendar_Year']\n",
    ").agg(\n",
    "    [\n",
    "        'min'\n",
    "        ,'max'\n",
    "        ,'count'\n",
    "        ,'nunique'\n",
    "    ]\n",
    ")\n"
   ]
  },
  {
   "cell_type": "code",
   "execution_count": null,
   "metadata": {},
   "outputs": [],
   "source": [
    "#hot encoding or case statements forever\n",
    "df['Calendar_Year_Enum'] = df['Calendar_Year'].astype(str)\n",
    "pd.get_dummies(df)"
   ]
  },
  {
   "cell_type": "code",
   "execution_count": null,
   "metadata": {},
   "outputs": [],
   "source": [
    "df.loc[(df.Calendar_Year <= 2006)  ]"
   ]
  },
  {
   "cell_type": "code",
   "execution_count": null,
   "metadata": {},
   "outputs": [],
   "source": []
  }
 ],
 "metadata": {
  "interpreter": {
   "hash": "81794d4967e6c3204c66dcd87b604927b115b27c00565d3d43f05ba2f3a2cb0d"
  },
  "kernelspec": {
   "display_name": "Python 3.9.5 64-bit",
   "language": "python",
   "name": "python3"
  },
  "language_info": {
   "codemirror_mode": {
    "name": "ipython",
    "version": 3
   },
   "file_extension": ".py",
   "mimetype": "text/x-python",
   "name": "python",
   "nbconvert_exporter": "python",
   "pygments_lexer": "ipython3",
   "version": "3.9.5"
  }
 },
 "nbformat": 4,
 "nbformat_minor": 2
}
