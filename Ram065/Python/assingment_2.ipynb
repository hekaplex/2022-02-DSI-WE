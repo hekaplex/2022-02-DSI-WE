{
 "cells": [
  {
   "cell_type": "code",
   "execution_count": null,
   "metadata": {},
   "outputs": [],
   "source": [
    "var = \"string\"\n",
    "print(\"name of my string variable is \" + var) \n",
    "user_name = input(\"\\nenter your first name: \") \n",
    "print(\"\\nyour name is \" + user_name)\n",
    "\n",
    "\n",
    "\n",
    "teresa_list =[\"tom\",\"jason\",\"malik\",\"ram\"]\n",
    "type(teresa_list)\n",
    "print(teresa_list)\n",
    "\n",
    "Roger_list =[\"a\",\"b\",\"c\",\"d\"]\n",
    "type(Roger_list)\n",
    "print(Roger_list)  \n",
    "\n",
    "teresa_set = { \"Bob\" , \"Sue\" }\n",
    "print(\"teresa's parente are\", teresa_set)\n"
   ]
  },
  {
   "cell_type": "code",
   "execution_count": 1,
   "metadata": {},
   "outputs": [
    {
     "name": "stdout",
     "output_type": "stream",
     "text": [
      "('BS diploma', 'MS Diploma')\n"
     ]
    }
   ],
   "source": [
    "teresa_tuple = (\"BS diploma\", \"MS Diploma\")\n",
    "print(teresa_tuple)\n"
   ]
  },
  {
   "cell_type": "code",
   "execution_count": 13,
   "metadata": {},
   "outputs": [
    {
     "data": {
      "text/plain": [
       "['apple', 'pear', 'grape']"
      ]
     },
     "execution_count": 13,
     "metadata": {},
     "output_type": "execute_result"
    }
   ],
   "source": [
    "d_fruits = {\"apple\":1, \"pear\":2, \"grape\":3}\n",
    "type(d_fruits)\n",
    "type(d_fruits.keys)\n",
    "[x for x in d_fruits.keys()] [x for x in d_fruits.keys()]"
   ]
  },
  {
   "cell_type": "code",
   "execution_count": 14,
   "metadata": {},
   "outputs": [
    {
     "data": {
      "text/plain": [
       "[('apple', 1), ('pear', 2), ('grape', 3)]"
      ]
     },
     "execution_count": 14,
     "metadata": {},
     "output_type": "execute_result"
    }
   ],
   "source": [
    "[x for x in d_fruits.items()]"
   ]
  },
  {
   "cell_type": "code",
   "execution_count": 16,
   "metadata": {},
   "outputs": [],
   "source": [
    "def itemlist(d_x):\n",
    "    return [x for x in d_x.items()]"
   ]
  },
  {
   "cell_type": "code",
   "execution_count": 17,
   "metadata": {},
   "outputs": [
    {
     "data": {
      "text/plain": [
       "[('apple', 1), ('pear', 2), ('grape', 3)]"
      ]
     },
     "execution_count": 17,
     "metadata": {},
     "output_type": "execute_result"
    }
   ],
   "source": [
    "itemlist(d_fruits)"
   ]
  }
 ],
 "metadata": {
  "interpreter": {
   "hash": "620e3bf2a79ef67a4bb6c6e9e977df73e56838d8c862f7fac854849ceb63d63c"
  },
  "kernelspec": {
   "display_name": "Python 3.9.12 ('base')",
   "language": "python",
   "name": "python3"
  },
  "language_info": {
   "codemirror_mode": {
    "name": "ipython",
    "version": 3
   },
   "file_extension": ".py",
   "mimetype": "text/x-python",
   "name": "python",
   "nbconvert_exporter": "python",
   "pygments_lexer": "ipython3",
   "version": "3.9.12"
  },
  "orig_nbformat": 4
 },
 "nbformat": 4,
 "nbformat_minor": 2
}
