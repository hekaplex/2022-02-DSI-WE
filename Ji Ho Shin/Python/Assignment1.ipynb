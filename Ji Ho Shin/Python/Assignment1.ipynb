{
 "cells": [
  {
   "cell_type": "code",
   "execution_count": 11,
   "metadata": {},
   "outputs": [
    {
     "name": "stdout",
     "output_type": "stream",
     "text": [
      "Hello Ji Ho Shin\n",
      "Hello Ji Ho Shin\n",
      "Hello Ji Ho Shin\n",
      "\n"
     ]
    }
   ],
   "source": [
    "name = input(\"please type name\")\n",
    "repeat = int(input(\"number of repeats\"))\n",
    "core_string = \"Hello \"+name+\"\\n\"\n",
    "print(core_string * repeat)"
   ]
  },
  {
   "cell_type": "markdown",
   "metadata": {},
   "source": [
    "# Assignment\n",
    "* create a variable for a string\n",
    "* use an input\n",
    "* repeat string a number of times from the input\n",
    "\n",
    "OR\n",
    "\n",
    "* code using any Python and scripting we've learn"
   ]
  },
  {
   "cell_type": "markdown",
   "metadata": {},
   "source": [
    "# Assignment\n",
    "* create a variable for a string\n",
    "* use an input\n",
    "* repeat string a number of times from the input\n",
    "\n",
    "OR\n",
    "\n",
    "* code using any Python and scripting we've learn"
   ]
  }
 ],
 "metadata": {
  "interpreter": {
   "hash": "2043299c89c8cd0b4d1a6f5cf4529bd58e6a4e0fe3181a25e0d328c821cdc5c5"
  },
  "kernelspec": {
   "display_name": "Python 3.9.7 ('base')",
   "language": "python",
   "name": "python3"
  },
  "language_info": {
   "codemirror_mode": {
    "name": "ipython",
    "version": 3
   },
   "file_extension": ".py",
   "mimetype": "text/x-python",
   "name": "python",
   "nbconvert_exporter": "python",
   "pygments_lexer": "ipython3",
   "version": "3.9.7"
  },
  "orig_nbformat": 4
 },
 "nbformat": 4,
 "nbformat_minor": 2
}
